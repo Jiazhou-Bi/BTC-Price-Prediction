{
 "cells": [
  {
   "cell_type": "code",
   "execution_count": 117,
   "metadata": {},
   "outputs": [],
   "source": [
    "#### Preamble ####\n",
    "# Purpose: Model the data to predict total income\n",
    "# Author: Jiazhou(Justin) Bi and Weiyang Li\n",
    "# Date: 4 October 2024\n",
    "# Contact: justin.bi@mail.utoronto.ca or weiyang.li@mail.utoronto.ca\n",
    "# License: MIT\n",
    "# Pre-requisites: python 3.10.5 or above, with pandas, and sklearn installed for python\n",
    "# Any other information needed? None"
   ]
  },
  {
   "cell_type": "code",
   "execution_count": 130,
   "metadata": {},
   "outputs": [
    {
     "data": {
      "text/html": [
       "<div>\n",
       "<style scoped>\n",
       "    .dataframe tbody tr th:only-of-type {\n",
       "        vertical-align: middle;\n",
       "    }\n",
       "\n",
       "    .dataframe tbody tr th {\n",
       "        vertical-align: top;\n",
       "    }\n",
       "\n",
       "    .dataframe thead th {\n",
       "        text-align: right;\n",
       "    }\n",
       "</style>\n",
       "<table border=\"1\" class=\"dataframe\">\n",
       "  <thead>\n",
       "    <tr style=\"text-align: right;\">\n",
       "      <th></th>\n",
       "      <th>STATEICP</th>\n",
       "      <th>GQ</th>\n",
       "      <th>MORTGAGE</th>\n",
       "      <th>SEX</th>\n",
       "      <th>AGE</th>\n",
       "      <th>MARST</th>\n",
       "      <th>EDUC</th>\n",
       "      <th>SCHLTYPE</th>\n",
       "      <th>OCC2010</th>\n",
       "      <th>IND1990</th>\n",
       "      <th>INCTOT</th>\n",
       "      <th>VETSTAT</th>\n",
       "      <th>EDUC_new</th>\n",
       "    </tr>\n",
       "  </thead>\n",
       "  <tbody>\n",
       "    <tr>\n",
       "      <th>0</th>\n",
       "      <td>41</td>\n",
       "      <td>1</td>\n",
       "      <td>3</td>\n",
       "      <td>2</td>\n",
       "      <td>51</td>\n",
       "      <td>6</td>\n",
       "      <td>10</td>\n",
       "      <td>1</td>\n",
       "      <td>800</td>\n",
       "      <td>850</td>\n",
       "      <td>120000</td>\n",
       "      <td>1</td>\n",
       "      <td>4</td>\n",
       "    </tr>\n",
       "    <tr>\n",
       "      <th>1</th>\n",
       "      <td>41</td>\n",
       "      <td>1</td>\n",
       "      <td>3</td>\n",
       "      <td>1</td>\n",
       "      <td>61</td>\n",
       "      <td>1</td>\n",
       "      <td>8</td>\n",
       "      <td>1</td>\n",
       "      <td>4810</td>\n",
       "      <td>711</td>\n",
       "      <td>200000</td>\n",
       "      <td>1</td>\n",
       "      <td>4</td>\n",
       "    </tr>\n",
       "    <tr>\n",
       "      <th>2</th>\n",
       "      <td>41</td>\n",
       "      <td>1</td>\n",
       "      <td>1</td>\n",
       "      <td>1</td>\n",
       "      <td>63</td>\n",
       "      <td>1</td>\n",
       "      <td>7</td>\n",
       "      <td>1</td>\n",
       "      <td>8030</td>\n",
       "      <td>50</td>\n",
       "      <td>40000</td>\n",
       "      <td>1</td>\n",
       "      <td>4</td>\n",
       "    </tr>\n",
       "    <tr>\n",
       "      <th>3</th>\n",
       "      <td>41</td>\n",
       "      <td>1</td>\n",
       "      <td>1</td>\n",
       "      <td>2</td>\n",
       "      <td>36</td>\n",
       "      <td>4</td>\n",
       "      <td>7</td>\n",
       "      <td>1</td>\n",
       "      <td>120</td>\n",
       "      <td>702</td>\n",
       "      <td>50000</td>\n",
       "      <td>1</td>\n",
       "      <td>4</td>\n",
       "    </tr>\n",
       "    <tr>\n",
       "      <th>4</th>\n",
       "      <td>41</td>\n",
       "      <td>1</td>\n",
       "      <td>1</td>\n",
       "      <td>1</td>\n",
       "      <td>17</td>\n",
       "      <td>6</td>\n",
       "      <td>5</td>\n",
       "      <td>3</td>\n",
       "      <td>4000</td>\n",
       "      <td>641</td>\n",
       "      <td>400</td>\n",
       "      <td>1</td>\n",
       "      <td>3</td>\n",
       "    </tr>\n",
       "  </tbody>\n",
       "</table>\n",
       "</div>"
      ],
      "text/plain": [
       "  STATEICP GQ MORTGAGE SEX  AGE MARST  EDUC SCHLTYPE OCC2010 IND1990  INCTOT  \\\n",
       "0       41  1        3   2   51     6    10        1     800     850  120000   \n",
       "1       41  1        3   1   61     1     8        1    4810     711  200000   \n",
       "2       41  1        1   1   63     1     7        1    8030      50   40000   \n",
       "3       41  1        1   2   36     4     7        1     120     702   50000   \n",
       "4       41  1        1   1   17     6     5        3    4000     641     400   \n",
       "\n",
       "  VETSTAT  EDUC_new  \n",
       "0       1         4  \n",
       "1       1         4  \n",
       "2       1         4  \n",
       "3       1         4  \n",
       "4       1         3  "
      ]
     },
     "execution_count": 130,
     "metadata": {},
     "output_type": "execute_result"
    }
   ],
   "source": [
    "import pandas as pd\n",
    "from sklearn.model_selection import train_test_split\n",
    "from sklearn.ensemble import RandomForestRegressor\n",
    "from sklearn.metrics import mean_squared_error\n",
    "from sklearn.preprocessing import OneHotEncoder\n",
    "from sklearn.preprocessing import OrdinalEncoder\n",
    "from sklearn.compose import ColumnTransformer\n",
    "from sklearn.pipeline import Pipeline\n",
    "from sklearn.linear_model import LinearRegression\n",
    "# Adding progress bar for the model's training\n",
    "from sklearn.utils import parallel_backend\n",
    "from tqdm import tqdm\n",
    "import joblib\n",
    "\n",
    "df = pd.read_parquet('../data/02-analysis_data/cleaned_data.parquet')\n",
    "df.head()"
   ]
  },
  {
   "cell_type": "code",
   "execution_count": 131,
   "metadata": {},
   "outputs": [
    {
     "name": "stdout",
     "output_type": "stream",
     "text": [
      "   EDUC_new  SEX\n",
      "0         4    2\n",
      "1         4    1\n",
      "2         4    1\n",
      "3         4    2\n",
      "4         3    1\n"
     ]
    },
    {
     "data": {
      "text/html": [
       "<div>\n",
       "<style scoped>\n",
       "    .dataframe tbody tr th:only-of-type {\n",
       "        vertical-align: middle;\n",
       "    }\n",
       "\n",
       "    .dataframe tbody tr th {\n",
       "        vertical-align: top;\n",
       "    }\n",
       "\n",
       "    .dataframe thead th {\n",
       "        text-align: right;\n",
       "    }\n",
       "</style>\n",
       "<table border=\"1\" class=\"dataframe\">\n",
       "  <thead>\n",
       "    <tr style=\"text-align: right;\">\n",
       "      <th></th>\n",
       "      <th>STATEICP</th>\n",
       "      <th>GQ</th>\n",
       "      <th>MORTGAGE</th>\n",
       "      <th>SEX</th>\n",
       "      <th>AGE</th>\n",
       "      <th>MARST</th>\n",
       "      <th>EDUC</th>\n",
       "      <th>SCHLTYPE</th>\n",
       "      <th>OCC2010</th>\n",
       "      <th>IND1990</th>\n",
       "      <th>INCTOT</th>\n",
       "      <th>VETSTAT</th>\n",
       "      <th>EDUC_new</th>\n",
       "      <th>EDUC_SEX_INTERACTION</th>\n",
       "    </tr>\n",
       "  </thead>\n",
       "  <tbody>\n",
       "    <tr>\n",
       "      <th>0</th>\n",
       "      <td>41</td>\n",
       "      <td>1</td>\n",
       "      <td>3</td>\n",
       "      <td>2</td>\n",
       "      <td>51</td>\n",
       "      <td>6</td>\n",
       "      <td>10</td>\n",
       "      <td>1</td>\n",
       "      <td>800</td>\n",
       "      <td>850</td>\n",
       "      <td>120000</td>\n",
       "      <td>1</td>\n",
       "      <td>4</td>\n",
       "      <td>8</td>\n",
       "    </tr>\n",
       "    <tr>\n",
       "      <th>1</th>\n",
       "      <td>41</td>\n",
       "      <td>1</td>\n",
       "      <td>3</td>\n",
       "      <td>1</td>\n",
       "      <td>61</td>\n",
       "      <td>1</td>\n",
       "      <td>8</td>\n",
       "      <td>1</td>\n",
       "      <td>4810</td>\n",
       "      <td>711</td>\n",
       "      <td>200000</td>\n",
       "      <td>1</td>\n",
       "      <td>4</td>\n",
       "      <td>4</td>\n",
       "    </tr>\n",
       "    <tr>\n",
       "      <th>2</th>\n",
       "      <td>41</td>\n",
       "      <td>1</td>\n",
       "      <td>1</td>\n",
       "      <td>1</td>\n",
       "      <td>63</td>\n",
       "      <td>1</td>\n",
       "      <td>7</td>\n",
       "      <td>1</td>\n",
       "      <td>8030</td>\n",
       "      <td>50</td>\n",
       "      <td>40000</td>\n",
       "      <td>1</td>\n",
       "      <td>4</td>\n",
       "      <td>4</td>\n",
       "    </tr>\n",
       "    <tr>\n",
       "      <th>3</th>\n",
       "      <td>41</td>\n",
       "      <td>1</td>\n",
       "      <td>1</td>\n",
       "      <td>2</td>\n",
       "      <td>36</td>\n",
       "      <td>4</td>\n",
       "      <td>7</td>\n",
       "      <td>1</td>\n",
       "      <td>120</td>\n",
       "      <td>702</td>\n",
       "      <td>50000</td>\n",
       "      <td>1</td>\n",
       "      <td>4</td>\n",
       "      <td>8</td>\n",
       "    </tr>\n",
       "    <tr>\n",
       "      <th>4</th>\n",
       "      <td>41</td>\n",
       "      <td>1</td>\n",
       "      <td>1</td>\n",
       "      <td>1</td>\n",
       "      <td>17</td>\n",
       "      <td>6</td>\n",
       "      <td>5</td>\n",
       "      <td>3</td>\n",
       "      <td>4000</td>\n",
       "      <td>641</td>\n",
       "      <td>400</td>\n",
       "      <td>1</td>\n",
       "      <td>3</td>\n",
       "      <td>3</td>\n",
       "    </tr>\n",
       "  </tbody>\n",
       "</table>\n",
       "</div>"
      ],
      "text/plain": [
       "  STATEICP GQ MORTGAGE  SEX  AGE MARST  EDUC SCHLTYPE OCC2010 IND1990  INCTOT  \\\n",
       "0       41  1        3    2   51     6    10        1     800     850  120000   \n",
       "1       41  1        3    1   61     1     8        1    4810     711  200000   \n",
       "2       41  1        1    1   63     1     7        1    8030      50   40000   \n",
       "3       41  1        1    2   36     4     7        1     120     702   50000   \n",
       "4       41  1        1    1   17     6     5        3    4000     641     400   \n",
       "\n",
       "  VETSTAT  EDUC_new  EDUC_SEX_INTERACTION  \n",
       "0       1         4                     8  \n",
       "1       1         4                     4  \n",
       "2       1         4                     4  \n",
       "3       1         4                     8  \n",
       "4       1         3                     3  "
      ]
     },
     "execution_count": 131,
     "metadata": {},
     "output_type": "execute_result"
    }
   ],
   "source": [
    "# Convert 'EDUC_new' and 'SEX' to numeric, coercing any invalid values to NaN\n",
    "df['EDUC_new'] = pd.to_numeric(df['EDUC_new'], errors='coerce')\n",
    "df['SEX'] = pd.to_numeric(df['SEX'], errors='coerce')\n",
    "\n",
    "# Check if the conversion worked\n",
    "print(df[['EDUC_new', 'SEX']].head())\n",
    "\n",
    "# Create the interaction term between EDUC_new and SEX\n",
    "df['EDUC_SEX_INTERACTION'] = df['EDUC_new'] * df['SEX']\n",
    "\n",
    "# Display the first few rows to check the result\n",
    "df.head()\n"
   ]
  },
  {
   "cell_type": "markdown",
   "metadata": {},
   "source": [
    "# Linear Regression"
   ]
  },
  {
   "cell_type": "code",
   "execution_count": 132,
   "metadata": {},
   "outputs": [],
   "source": [
    "X = df.drop(columns=['INCTOT'])\n",
    "y = df['INCTOT']\n",
    "categorical_features = [\n",
    "                        'STATEICP',\n",
    "                        'GQ',\n",
    "                        'MORTGAGE',\n",
    "#                        'SEX',\n",
    "                        'MARST',\n",
    "#                        'EDUC_new',\n",
    "                        'SCHLTYPE',\n",
    "                        'OCC2010',\n",
    "                        'IND1990',\n",
    "                        'VETSTAT'\n",
    "                        ]\n",
    "numerical_features = [\n",
    "                        'AGE',\n",
    "                        'EDUC_SEX_INTERACTION'\n",
    "                        ]\n",
    "preprocessor = ColumnTransformer(\n",
    "    transformers=[\n",
    "        ('cat', OrdinalEncoder(), categorical_features),\n",
    "#        ('cat', OneHotEncoder(handle_unknown='ignore'), categorical_features),\n",
    "        ('num', 'passthrough', numerical_features)\n",
    "    ])\n",
    "X_train, X_test, y_train, y_test = train_test_split(X, y, test_size=0.3, random_state=210)"
   ]
  },
  {
   "cell_type": "code",
   "execution_count": 133,
   "metadata": {},
   "outputs": [
    {
     "name": "stdout",
     "output_type": "stream",
     "text": [
      "Mean Squared Error: 7445603202.908898\n",
      "Root Mean Squared Error: 86287.90878743614\n"
     ]
    }
   ],
   "source": [
    "X_train = X_train.dropna()\n",
    "y_train = y_train.dropna()\n",
    "\n",
    "# Create the pipeline and fit the model\n",
    "model = Pipeline(steps=[\n",
    "    ('preprocessor', preprocessor),\n",
    "    ('regressor', LinearRegression())\n",
    "])\n",
    "\n",
    "# Fit the model\n",
    "model.fit(X_train, y_train)\n",
    "\n",
    "# Make predictions and evaluate\n",
    "y_pred = model.predict(X_test)\n",
    "mse = mean_squared_error(y_test, y_pred)\n",
    "rmse = mse ** 0.5\n",
    "\n",
    "print(f'Mean Squared Error: {mse}')\n",
    "print(f'Root Mean Squared Error: {rmse}')\n",
    "\n",
    "# Mean Squared Error: 7445603202.908898\n",
    "# Root Mean Squared Error: 86287.90878743614"
   ]
  },
  {
   "cell_type": "markdown",
   "metadata": {},
   "source": [
    "### Check VIF"
   ]
  },
  {
   "cell_type": "code",
   "execution_count": 134,
   "metadata": {},
   "outputs": [
    {
     "name": "stdout",
     "output_type": "stream",
     "text": [
      "                     Feature        VIF\n",
      "0              cat__STATEICP   3.309149\n",
      "1                    cat__GQ   1.002440\n",
      "2              cat__MORTGAGE   2.788439\n",
      "3                 cat__MARST   1.779866\n",
      "4              cat__SCHLTYPE   1.243023\n",
      "5               cat__OCC2010   3.423697\n",
      "6               cat__IND1990   8.998054\n",
      "7               cat__VETSTAT  13.979986\n",
      "8                   num__AGE  10.928711\n",
      "9  num__EDUC_SEX_INTERACTION   6.981437\n"
     ]
    }
   ],
   "source": [
    "from statsmodels.stats.outliers_influence import variance_inflation_factor\n",
    "\n",
    "# Preprocess the training data\n",
    "X_train_processed = model.named_steps['preprocessor'].transform(X_train)\n",
    "\n",
    "# Get the feature names after preprocessing\n",
    "feature_names = preprocessor.get_feature_names_out()\n",
    "\n",
    "# Create a DataFrame from the preprocessed data\n",
    "X_train_df = pd.DataFrame(X_train_processed, columns=feature_names)\n",
    "\n",
    "# Compute VIF for each feature\n",
    "vif_data = pd.DataFrame()\n",
    "vif_data['Feature'] = feature_names\n",
    "vif_data['VIF'] = [variance_inflation_factor(X_train_df.values, i) for i in range(X_train_df.shape[1])]\n",
    "\n",
    "print(vif_data)\n"
   ]
  },
  {
   "cell_type": "markdown",
   "metadata": {},
   "source": [
    "### Remove high correlated variables"
   ]
  },
  {
   "cell_type": "code",
   "execution_count": 135,
   "metadata": {},
   "outputs": [],
   "source": [
    "X = df.drop(columns=['INCTOT'])\n",
    "y = df['INCTOT']\n",
    "categorical_features = [\n",
    "                        'STATEICP',\n",
    "                        'GQ',\n",
    "                        'MORTGAGE',\n",
    "#                        'SEX',\n",
    "                        'MARST',\n",
    "#                        'EDUC_new',\n",
    "                        'SCHLTYPE',\n",
    "                        'OCC2010',\n",
    "                        'IND1990',\n",
    "#                        'VETSTAT'\n",
    "                        ]\n",
    "numerical_features = [\n",
    "                        'AGE',\n",
    "                        'EDUC_SEX_INTERACTION'\n",
    "                        ]\n",
    "preprocessor = ColumnTransformer(\n",
    "    transformers=[\n",
    "        ('cat', OrdinalEncoder(), categorical_features),\n",
    "#        ('cat', OneHotEncoder(handle_unknown='ignore'), categorical_features),\n",
    "        ('num', 'passthrough', numerical_features)\n",
    "    ])\n",
    "X_train, X_test, y_train, y_test = train_test_split(X, y, test_size=0.3, random_state=210)"
   ]
  },
  {
   "cell_type": "markdown",
   "metadata": {},
   "source": [
    "### Refit the model: Final one"
   ]
  },
  {
   "cell_type": "code",
   "execution_count": 136,
   "metadata": {},
   "outputs": [
    {
     "name": "stdout",
     "output_type": "stream",
     "text": [
      "MSE: 7448800507.007761\n",
      "RMSE: 86306.43375211237\n",
      "                     Feature   Coefficient\n",
      "2              cat__MORTGAGE  11267.898316\n",
      "7                   num__AGE    415.905987\n",
      "0              cat__STATEICP    126.393407\n",
      "6               cat__IND1990    -43.181001\n",
      "5               cat__OCC2010   -139.546200\n",
      "8  num__EDUC_SEX_INTERACTION  -1832.317721\n",
      "3                 cat__MARST  -5541.387047\n",
      "1                    cat__GQ  -7956.893797\n",
      "4              cat__SCHLTYPE -16320.741370\n"
     ]
    }
   ],
   "source": [
    "# Create the pipeline and fit the model\n",
    "model = Pipeline(steps=[\n",
    "    ('preprocessor', preprocessor),\n",
    "    ('regressor', LinearRegression())\n",
    "])\n",
    "\n",
    "model.fit(X_train, y_train)\n",
    "y_pred = model.predict(X_test)\n",
    "mse = mean_squared_error(y_test, y_pred)\n",
    "rmse = mse ** 0.5\n",
    "print(f'MSE: {mse}')\n",
    "print(f'RMSE: {rmse}')\n",
    "\n",
    "# Extract the coefficients\n",
    "coefficients = model.named_steps['regressor'].coef_\n",
    "feature_names = model.named_steps['preprocessor'].get_feature_names_out()\n",
    "coef_df = pd.DataFrame({\n",
    "    'Feature': feature_names,\n",
    "    'Coefficient': coefficients\n",
    "}).sort_values(by='Coefficient', ascending=False)\n",
    "print(coef_df)"
   ]
  },
  {
   "cell_type": "markdown",
   "metadata": {},
   "source": [
    "### Re-check VIF"
   ]
  },
  {
   "cell_type": "code",
   "execution_count": 137,
   "metadata": {},
   "outputs": [
    {
     "name": "stdout",
     "output_type": "stream",
     "text": [
      "                     Feature       VIF\n",
      "0              cat__STATEICP  3.242254\n",
      "1                    cat__GQ  1.002419\n",
      "2              cat__MORTGAGE  2.658013\n",
      "3                 cat__MARST  1.741158\n",
      "4              cat__SCHLTYPE  1.239412\n",
      "5               cat__OCC2010  3.187731\n",
      "6               cat__IND1990  8.490997\n",
      "7                   num__AGE  7.871046\n",
      "8  num__EDUC_SEX_INTERACTION  6.945850\n"
     ]
    }
   ],
   "source": [
    "# Preprocess the training data\n",
    "X_train_processed = model.named_steps['preprocessor'].transform(X_train)\n",
    "\n",
    "# Get the feature names after preprocessing\n",
    "feature_names = preprocessor.get_feature_names_out()\n",
    "\n",
    "# Create a DataFrame from the preprocessed data\n",
    "X_train_df = pd.DataFrame(X_train_processed, columns=feature_names)\n",
    "\n",
    "# Compute VIF for each feature\n",
    "vif_data = pd.DataFrame()\n",
    "vif_data['Feature'] = feature_names\n",
    "vif_data['VIF'] = [variance_inflation_factor(X_train_df.values, i) for i in range(X_train_df.shape[1])]\n",
    "\n",
    "print(vif_data)"
   ]
  },
  {
   "cell_type": "markdown",
   "metadata": {},
   "source": [
    "### Analyze Residual"
   ]
  },
  {
   "cell_type": "code",
   "execution_count": 138,
   "metadata": {},
   "outputs": [
    {
     "data": {
      "image/png": "[encoded data removed]",
      "text/plain": [
       "<Figure size 1000x600 with 1 Axes>"
      ]
     },
     "metadata": {},
     "output_type": "display_data"
    },
    {
     "data": {
      "image/png": "[encoded data removed]",
      "text/plain": [
       "<Figure size 640x480 with 1 Axes>"
      ]
     },
     "metadata": {},
     "output_type": "display_data"
    }
   ],
   "source": [
    "import matplotlib.pyplot as plt\n",
    "import seaborn as sns\n",
    "\n",
    "# Residuals\n",
    "residuals = y_test - y_pred\n",
    "\n",
    "# Plot the residuals\n",
    "plt.figure(figsize=(10, 6))\n",
    "sns.histplot(residuals, kde=True)\n",
    "plt.title('Residual Histogram')\n",
    "plt.xlabel('Personal Total Income')\n",
    "plt.show()\n",
    "\n",
    "# Scatter plot of residuals vs predicted values\n",
    "plt.scatter(y_pred, residuals)\n",
    "plt.axhline(0, color='r', linestyle='--')\n",
    "plt.xlabel('Predicted Values')\n",
    "plt.ylabel('Residuals')\n",
    "plt.title('Residuals vs Predicted Values')\n",
    "plt.show()\n"
   ]
  },
  {
   "cell_type": "markdown",
   "metadata": {},
   "source": [
    "### Compute R^2"
   ]
  },
  {
   "cell_type": "code",
   "execution_count": 139,
   "metadata": {},
   "outputs": [
    {
     "name": "stdout",
     "output_type": "stream",
     "text": [
      "R-squared: 0.07749380179559828\n",
      "Adjusted R-squared: 0.07746587258271909\n"
     ]
    }
   ],
   "source": [
    "from sklearn.metrics import r2_score\n",
    "\n",
    "# Compute R-squared\n",
    "r2 = r2_score(y_test, y_pred)\n",
    "print(f'R-squared: {r2}')\n",
    "\n",
    "# Adjusted R-squared\n",
    "n = X_test.shape[0]  # Number of observations\n",
    "p = X_test.shape[1]  # Number of predictors\n",
    "adj_r2 = 1 - (1 - r2) * (n - 1) / (n - p - 1)\n",
    "print(f'Adjusted R-squared: {adj_r2}')\n",
    "\n",
    "# R-squared: 0.07749380179559828\n",
    "# Adjusted R-squared: 0.07746372411168123"
   ]
  },
  {
   "cell_type": "markdown",
   "metadata": {},
   "source": [
    "# Random Forest"
   ]
  },
  {
   "cell_type": "code",
   "execution_count": 140,
   "metadata": {},
   "outputs": [],
   "source": [
    "X = df.drop(columns=['INCTOT'])\n",
    "y = df['INCTOT']\n",
    "categorical_features = [\n",
    "#                        'STATEICP',\n",
    "#                        'GQ',\n",
    "                        'MORTGAGE',\n",
    "                        'SEX',\n",
    "                        'MARST',\n",
    "                        'EDUC_new',\n",
    "                        'SCHLTYPE',\n",
    "#                        'OCC2010',\n",
    "                        'IND1990',\n",
    "                        'VETSTAT'\n",
    "                        ]\n",
    "numerical_features = [\n",
    "                        'AGE',\n",
    "#                        'EDUC_SEX_INTERACTION'\n",
    "                        ]\n",
    "preprocessor = ColumnTransformer(\n",
    "    transformers=[\n",
    "        ('cat', OrdinalEncoder(), categorical_features),\n",
    "#        ('cat', OneHotEncoder(handle_unknown='ignore'), categorical_features),\n",
    "        ('num', 'passthrough', numerical_features)\n",
    "    ])\n",
    "X_train, X_test, y_train, y_test = train_test_split(X, y, test_size=0.3, random_state=210)"
   ]
  },
  {
   "cell_type": "code",
   "execution_count": 141,
   "metadata": {},
   "outputs": [
    {
     "name": "stdout",
     "output_type": "stream",
     "text": [
      "Mean Squared Error: 5960198248.72675\n",
      "Rooted Mean Squared Error: 77202.32022890731\n"
     ]
    }
   ],
   "source": [
    "# Create the pipeline and fit the model\n",
    "model = Pipeline(steps=[\n",
    "    ('preprocessor', preprocessor),\n",
    "    ('regressor', RandomForestRegressor(n_estimators=100, random_state=210, max_depth=15))\n",
    "])\n",
    "\n",
    "# Fit the model\n",
    "model.fit(X_train, y_train)\n",
    "\n",
    "# Make predictions and evaluate\n",
    "y_pred = model.predict(X_test)\n",
    "mse = mean_squared_error(y_test, y_pred)\n",
    "rmse = mse ** 0.5\n",
    "\n",
    "print(f'Mean Squared Error: {mse}')\n",
    "print(f'Rooted Mean Squared Error: {rmse}')\n",
    "# Mean Squared Error: 5960198248.72675\n",
    "# Rooted Mean Squared Error: 77202.32022890731"
   ]
  },
  {
   "cell_type": "markdown",
   "metadata": {},
   "source": [
    "### Hyperparameter Tuning"
   ]
  },
  {
   "cell_type": "code",
   "execution_count": 142,
   "metadata": {},
   "outputs": [
    {
     "name": "stdout",
     "output_type": "stream",
     "text": [
      "Best Parameters:  {'regressor__max_depth': 10, 'regressor__min_samples_leaf': 4, 'regressor__min_samples_split': 10, 'regressor__n_estimators': 300}\n",
      "Best Model MSE: 6057426411.648569\n",
      "Best Model RMSE: 77829.47007174448\n"
     ]
    }
   ],
   "source": [
    "from sklearn.model_selection import GridSearchCV\n",
    "import pandas as pd\n",
    "\n",
    "# Define the fraction of the training data (10%)\n",
    "sample_fraction = 0.1\n",
    "\n",
    "# Subsample the training data\n",
    "X_train_sampled = X_train.sample(frac=sample_fraction, random_state=154)\n",
    "y_train_sampled = y_train.loc[X_train_sampled.index]\n",
    "\n",
    "# Define parameter grid\n",
    "param_grid = {\n",
    "    'regressor__n_estimators': [100, 200, 300],\n",
    "    'regressor__max_depth': [10, 15, 20],\n",
    "    'regressor__min_samples_split': [2, 5, 10],\n",
    "    'regressor__min_samples_leaf': [1, 2, 4]\n",
    "}\n",
    "\n",
    "# Perform Grid Search with subsampled training data\n",
    "grid_search = GridSearchCV(model, param_grid, cv=3, n_jobs=-1, scoring='neg_mean_squared_error')\n",
    "grid_search.fit(X_train_sampled, y_train_sampled)\n",
    "\n",
    "# Print best parameters\n",
    "print(\"Best Parameters: \", grid_search.best_params_)\n",
    "\n",
    "# Use the best model found\n",
    "best_model = grid_search.best_estimator_\n",
    "\n",
    "# Predict using the best model on the full test set\n",
    "y_pred_best = best_model.predict(X_test)\n",
    "mse_best = mean_squared_error(y_test, y_pred_best)\n",
    "rmse_best = mse_best ** 0.5\n",
    "\n",
    "print(f'Best Model MSE: {mse_best}')\n",
    "print(f'Best Model RMSE: {rmse_best}')\n",
    "\n",
    "\n",
    "# Best Parameters:  {'regressor__max_depth': 10, 'regressor__min_samples_leaf': 4, 'regressor__min_samples_split': 10, 'regressor__n_estimators': 300}\n",
    "# Best Model MSE: 6057426411.648569\n",
    "# Best Model RMSE: 77829.47007174448"
   ]
  },
  {
   "cell_type": "markdown",
   "metadata": {},
   "source": [
    "### Feature Importance"
   ]
  },
  {
   "cell_type": "code",
   "execution_count": 143,
   "metadata": {},
   "outputs": [
    {
     "name": "stdout",
     "output_type": "stream",
     "text": [
      "         Feature  Importance\n",
      "3  cat__EDUC_new    0.337065\n",
      "5   cat__IND1990    0.243451\n",
      "7       num__AGE    0.193932\n",
      "1       cat__SEX    0.149342\n",
      "2     cat__MARST    0.055948\n",
      "0  cat__MORTGAGE    0.013061\n",
      "4  cat__SCHLTYPE    0.004251\n",
      "6   cat__VETSTAT    0.002948\n"
     ]
    }
   ],
   "source": [
    "# Extract feature importances from the best model\n",
    "feature_importances = best_model.named_steps['regressor'].feature_importances_\n",
    "feature_names = best_model.named_steps['preprocessor'].get_feature_names_out()\n",
    "\n",
    "# Create a DataFrame to display the feature importances\n",
    "importance_df = pd.DataFrame({\n",
    "    'Feature': feature_names,\n",
    "    'Importance': feature_importances\n",
    "}).sort_values(by='Importance', ascending=False)\n",
    "\n",
    "# Display the DataFrame\n",
    "print(importance_df)\n"
   ]
  },
  {
   "cell_type": "markdown",
   "metadata": {},
   "source": [
    "### Analyze Residual"
   ]
  },
  {
   "cell_type": "code",
   "execution_count": 144,
   "metadata": {},
   "outputs": [
    {
     "data": {
      "image/png": "[encoded data removed]",
      "text/plain": [
       "<Figure size 640x480 with 1 Axes>"
      ]
     },
     "metadata": {},
     "output_type": "display_data"
    }
   ],
   "source": [
    "import matplotlib.pyplot as plt\n",
    "\n",
    "# Calculate residuals\n",
    "residuals = y_test - y_pred_best\n",
    "\n",
    "# Plot the residuals\n",
    "plt.scatter(y_pred_best, residuals)\n",
    "plt.axhline(y=0, color='r', linestyle='--')\n",
    "plt.xlabel('Predicted Values')\n",
    "plt.ylabel('Residuals')\n",
    "plt.title('Residual Plot')\n",
    "plt.show()"
   ]
  },
  {
   "cell_type": "markdown",
   "metadata": {},
   "source": [
    "# XGBoost"
   ]
  },
  {
   "cell_type": "code",
   "execution_count": 145,
   "metadata": {},
   "outputs": [
    {
     "name": "stdout",
     "output_type": "stream",
     "text": [
      "XGBoost Mean Squared Error: 5899155116.290045\n",
      "XGBoost Root Mean Squared Error: 76805.95755727576\n"
     ]
    }
   ],
   "source": [
    "import pandas as pd\n",
    "from sklearn.model_selection import train_test_split\n",
    "from sklearn.compose import ColumnTransformer\n",
    "from sklearn.pipeline import Pipeline\n",
    "from sklearn.preprocessing import OrdinalEncoder\n",
    "from sklearn.metrics import mean_squared_error\n",
    "from xgboost import XGBRegressor\n",
    "\n",
    "X = df.drop(columns=['INCTOT'])\n",
    "y = df['INCTOT']\n",
    "\n",
    "# Define the categorical and numerical features\n",
    "categorical_features = [\n",
    "#    'STATEICP',\n",
    "#    'GQ',\n",
    "    'MORTGAGE',\n",
    "    'SEX',\n",
    "    'MARST',\n",
    "    'EDUC_new',\n",
    "    'SCHLTYPE',\n",
    "#    'OCC2010',\n",
    "    'IND1990',\n",
    "    'VETSTAT'\n",
    "]\n",
    "numerical_features = [\n",
    "    'AGE'\n",
    "]\n",
    "\n",
    "# Preprocessor for handling categorical and numerical features\n",
    "preprocessor = ColumnTransformer(\n",
    "    transformers=[\n",
    "        ('cat', OrdinalEncoder(), categorical_features),\n",
    "        ('num', 'passthrough', numerical_features)\n",
    "    ])\n",
    "\n",
    "# Split the data into training and test sets\n",
    "X_train, X_test, y_train, y_test = train_test_split(X, y, test_size=0.3, random_state=210)\n",
    "\n",
    "# Create the XGBoost pipeline\n",
    "xgb_model = Pipeline(steps=[\n",
    "    ('preprocessor', preprocessor),\n",
    "    ('regressor', XGBRegressor(n_estimators=100, learning_rate=0.1, max_depth=6, random_state=210))\n",
    "])\n",
    "\n",
    "# Fit the model\n",
    "xgb_model.fit(X_train, y_train)\n",
    "\n",
    "# Make predictions\n",
    "y_pred_xgb = xgb_model.predict(X_test)\n",
    "\n",
    "# Evaluate the model using MSE and RMSE\n",
    "mse_xgb = mean_squared_error(y_test, y_pred_xgb)\n",
    "rmse_xgb = mse_xgb ** 0.5\n",
    "\n",
    "print(f'XGBoost Mean Squared Error: {mse_xgb}')\n",
    "print(f'XGBoost Root Mean Squared Error: {rmse_xgb}')\n",
    "\n",
    "# XGBoost Mean Squared Error: 5899155116.290045\n",
    "# XGBoost Root Mean Squared Error: 76805.95755727576"
   ]
  },
  {
   "cell_type": "markdown",
   "metadata": {},
   "source": [
    "### Hyperparameter Tuning with GridSearchCV"
   ]
  },
  {
   "cell_type": "code",
   "execution_count": 146,
   "metadata": {},
   "outputs": [
    {
     "name": "stdout",
     "output_type": "stream",
     "text": [
      "Best Parameters:  {'regressor__learning_rate': 0.1, 'regressor__max_depth': 6, 'regressor__min_child_weight': 5, 'regressor__n_estimators': 300}\n"
     ]
    }
   ],
   "source": [
    "from sklearn.model_selection import GridSearchCV\n",
    "\n",
    "param_grid = {\n",
    "    'regressor__n_estimators': [100, 200, 300],\n",
    "    'regressor__learning_rate': [0.01, 0.05, 0.1],\n",
    "    'regressor__max_depth': [4, 6, 8],\n",
    "    'regressor__min_child_weight': [1, 3, 5]\n",
    "}\n",
    "\n",
    "grid_search = GridSearchCV(xgb_model, param_grid, cv=3, n_jobs=-1, scoring='neg_mean_squared_error')\n",
    "grid_search.fit(X_train, y_train)\n",
    "\n",
    "print(\"Best Parameters: \", grid_search.best_params_)\n",
    "\n",
    "# Best Parameters:  {'regressor__learning_rate': 0.1, 'regressor__max_depth': 6, 'regressor__min_child_weight': 5, 'regressor__n_estimators': 300}"
   ]
  },
  {
   "cell_type": "markdown",
   "metadata": {},
   "source": [
    "### Final model"
   ]
  },
  {
   "cell_type": "code",
   "execution_count": 150,
   "metadata": {},
   "outputs": [
    {
     "name": "stdout",
     "output_type": "stream",
     "text": [
      "Final XGBoost Model MSE: 5854629848.133301\n",
      "Final XGBoost Model RMSE: 76515.55298194806\n"
     ]
    }
   ],
   "source": [
    "from sklearn.preprocessing import OneHotEncoder\n",
    "from sklearn.compose import ColumnTransformer\n",
    "from sklearn.pipeline import Pipeline\n",
    "from xgboost import XGBRegressor\n",
    "\n",
    "# Create the pipeline with XGBoost\n",
    "final_model_pipeline = Pipeline(steps=[\n",
    "    ('preprocessor', preprocessor),\n",
    "    ('regressor', XGBRegressor(\n",
    "        learning_rate=0.1, \n",
    "        max_depth=6, \n",
    "        min_child_weight=5, \n",
    "        n_estimators=300, \n",
    "        random_state=210\n",
    "    ))\n",
    "])\n",
    "\n",
    "# Fit the final model on the full training set\n",
    "final_model_pipeline.fit(X_train, y_train)\n",
    "\n",
    "# Make predictions and evaluate the model\n",
    "y_pred_final = final_model_pipeline.predict(X_test)\n",
    "\n",
    "# Evaluate the final model using RMSE\n",
    "mse_final = mean_squared_error(y_test, y_pred_final)\n",
    "rmse_final = mse_final ** 0.5\n",
    "\n",
    "print(f'Final XGBoost Model MSE: {mse_final}')\n",
    "print(f'Final XGBoost Model RMSE: {rmse_final}')\n",
    "\n",
    "# Final XGBoost Model MSE: 5854629848.133301\n",
    "# Final XGBoost Model RMSE: 76515.55298194806"
   ]
  },
  {
   "cell_type": "markdown",
   "metadata": {},
   "source": [
    "### Residual Analysis"
   ]
  },
  {
   "cell_type": "code",
   "execution_count": 151,
   "metadata": {},
   "outputs": [
    {
     "data": {
      "image/png": "[encoded data removed]",
      "text/plain": [
       "<Figure size 640x480 with 1 Axes>"
      ]
     },
     "metadata": {},
     "output_type": "display_data"
    }
   ],
   "source": [
    "import matplotlib.pyplot as plt\n",
    "\n",
    "# Calculate residuals\n",
    "residuals = y_test - y_pred_final\n",
    "\n",
    "# Plot residuals vs predicted values\n",
    "plt.scatter(y_pred_final, residuals)\n",
    "plt.axhline(y=0, color='r', linestyle='--')\n",
    "plt.xlabel('Predicted Values')\n",
    "plt.ylabel('Residuals')\n",
    "plt.title('Residuals vs Predicted Values')\n",
    "plt.show()\n"
   ]
  },
  {
   "cell_type": "markdown",
   "metadata": {},
   "source": [
    "### CV"
   ]
  },
  {
   "cell_type": "code",
   "execution_count": 153,
   "metadata": {},
   "outputs": [
    {
     "name": "stdout",
     "output_type": "stream",
     "text": [
      "Fold 1 RMSE: 76693.86\n",
      "Fold 2 RMSE: 75692.41\n",
      "Fold 3 RMSE: 76193.42\n",
      "Fold 4 RMSE: 77365.82\n",
      "Fold 5 RMSE: 76552.10\n",
      "\n",
      "Average CV RMSE: 76499.52\n"
     ]
    }
   ],
   "source": [
    "from sklearn.model_selection import cross_val_score\n",
    "import numpy as np\n",
    "\n",
    "# Perform cross-validation with the pipeline model\n",
    "cv_scores = cross_val_score(final_model_pipeline, X_train, y_train, cv=5, scoring='neg_mean_squared_error')\n",
    "\n",
    "# Calculate RMSE for each fold\n",
    "cv_rmse_scores = np.sqrt(-cv_scores)\n",
    "\n",
    "# Print each fold’s RMSE and the average RMSE\n",
    "for i, score in enumerate(cv_rmse_scores, 1):\n",
    "    print(f\"Fold {i} RMSE: {score:.2f}\")\n",
    "\n",
    "print(f\"\\nAverage CV RMSE: {cv_rmse_scores.mean():.2f}\")"
   ]
  }
 ],
 "metadata": {
  "kernelspec": {
   "display_name": "Python 3",
   "language": "python",
   "name": "python3"
  },
  "language_info": {
   "codemirror_mode": {
    "name": "ipython",
    "version": 3
   },
   "file_extension": ".py",
   "mimetype": "text/x-python",
   "name": "python",
   "nbconvert_exporter": "python",
   "pygments_lexer": "ipython3",
   "version": "3.8.5"
  }
 },
 "nbformat": 4,
 "nbformat_minor": 2
}
