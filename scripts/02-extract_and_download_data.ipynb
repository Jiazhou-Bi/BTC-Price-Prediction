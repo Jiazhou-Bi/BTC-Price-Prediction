{
 "cells": [
  {
   "cell_type": "code",
   "execution_count": null,
   "metadata": {},
   "outputs": [],
   "source": [
    "#### Preamble ####\n",
    "# Purpose: Extacts and downloads and saves the historical data of BTC/USDT\n",
    "# Author: Jiazhou(Justin) Bi\n",
    "# Date: 3 October 2024\n",
    "# Contact: justin.bi@mail.utoronto.ca\n",
    "# License: None\n",
    "# Pre-requisites: see requirements.txt\n",
    "# Any other information needed? None"
   ]
  },
  {
   "cell_type": "markdown",
   "metadata": {},
   "source": [
    "# Claim\n",
    "\n",
    "Currently, this data extraction extract historical data of BTC/USTD from binance on a 1 minute, 1 hour, and 1 day interval, starting 2017-08-17 04:00:00. It seems that binance can handle more calls from API, thus making our data extraction with high granularity (1m compared to 1h or 1d) effortlessly. Currently on Nov 14, 2024, the data retrieval process takes around 22 to 23 mins on my computer. Note that Binance only offers historical data of BTC/USDT started in 2017-08-17. For data with longer historical records, please use other exchanges' data. For more details, please check: https://docs.ccxt.com/#/."
   ]
  },
  {
   "cell_type": "code",
   "execution_count": null,
   "metadata": {},
   "outputs": [],
   "source": [
    "# import necessary packages\n",
    "import ccxt\n",
    "import pandas as pd\n",
    "from datetime import datetime\n",
    "\n",
    "# Initialize the exchange\n",
    "exchange = ccxt.binance() #binance, coinbase pro, kraken, bitfinex\n",
    "symbol = 'BTC/USDT'\n",
    "timeframe = '1m'      # Timeframe (e.g., '1m', '5m', '15m', '1h', '1d')\n",
    "since = exchange.parse8601('2017-01-01T00:00:00Z') # Start date in ISO 8601 format\n",
    "# Binance: Bitcoin historical data is available starting from 2017.\n",
    "# Coinbase Pro: Data may go back to 2015 for BTC-USD, but it has limitations due to the recent deprecation of Coinbase Pro.\n",
    "# Bitfinex: Bitcoin historical data goes back to around 2013.\n",
    "# Kraken: Provides data from as early as 2011 for BTC-USD, though its granularity may vary for older data."
   ]
  },
  {
   "cell_type": "code",
   "execution_count": 3,
   "metadata": {},
   "outputs": [],
   "source": [
    "#retrieve data in batches\n",
    "all_data = []\n",
    "while since < exchange.milliseconds():\n",
    "    data = exchange.fetch_ohlcv(symbol, timeframe, since=since, limit=500)\n",
    "    if not data:\n",
    "        break\n",
    "    all_data.extend(data)\n",
    "    since = data[-1][0] + 1\n",
    "\n",
    "# this cell takes roughly 22 mins on my PC"
   ]
  },
  {
   "cell_type": "code",
   "execution_count": 4,
   "metadata": {},
   "outputs": [
    {
     "name": "stdout",
     "output_type": "stream",
     "text": [
      "            timestamp     open     high      low    close    volume\n",
      "0 2017-08-17 04:00:00  4261.48  4261.48  4261.48  4261.48  1.775183\n",
      "1 2017-08-17 04:01:00  4261.48  4261.48  4261.48  4261.48  0.000000\n",
      "2 2017-08-17 04:02:00  4280.56  4280.56  4280.56  4280.56  0.261074\n",
      "3 2017-08-17 04:03:00  4261.48  4261.48  4261.48  4261.48  0.012008\n",
      "4 2017-08-17 04:04:00  4261.48  4261.48  4261.48  4261.48  0.140796\n"
     ]
    }
   ],
   "source": [
    "df = pd.DataFrame(all_data, columns=['timestamp', 'open', 'high', 'low', 'close', 'volume'])\n",
    "df['timestamp'] = pd.to_datetime(df['timestamp'], unit='ms')\n",
    "print(df.head())"
   ]
  },
  {
   "cell_type": "code",
   "execution_count": null,
   "metadata": {},
   "outputs": [],
   "source": [
    "# saving the 1m timestamp data into parquet\n",
    "df.to_parquet('../data/01-raw_data/raw_data_1m.parquet', index=False)\n",
    "# (3804375, 6)"
   ]
  },
  {
   "cell_type": "code",
   "execution_count": 12,
   "metadata": {},
   "outputs": [
    {
     "name": "stdout",
     "output_type": "stream",
     "text": [
      "            timestamp     open     high      low    close     volume\n",
      "0 2017-08-17 04:00:00  4261.48  4313.62  4261.32  4308.83  47.181009\n",
      "1 2017-08-17 05:00:00  4308.83  4328.69  4291.37  4315.32  23.234916\n",
      "2 2017-08-17 06:00:00  4330.29  4345.45  4309.37  4324.35   7.229691\n",
      "3 2017-08-17 07:00:00  4316.62  4349.99  4287.41  4349.99   4.443249\n",
      "4 2017-08-17 08:00:00  4333.32  4377.85  4333.32  4360.69   0.972807\n"
     ]
    }
   ],
   "source": [
    "# using the same method to extract data on 1 hour timestamps (intervals)\n",
    "timeframe = '1h'\n",
    "since = exchange.parse8601('2017-01-01T00:00:00Z')\n",
    "\n",
    "#retrieve data in batches\n",
    "all_data = []\n",
    "while since < exchange.milliseconds():\n",
    "    data = exchange.fetch_ohlcv(symbol, timeframe, since=since, limit=500)\n",
    "    if not data:\n",
    "        break\n",
    "    all_data.extend(data)\n",
    "    since = data[-1][0] + 1\n",
    "\n",
    "df = pd.DataFrame(all_data, columns=['timestamp', 'open', 'high', 'low', 'close', 'volume'])\n",
    "df['timestamp'] = pd.to_datetime(df['timestamp'], unit='ms')\n",
    "print(df.head())"
   ]
  },
  {
   "cell_type": "code",
   "execution_count": null,
   "metadata": {},
   "outputs": [],
   "source": [
    "# saving the 1h timestamp data into parquet\n",
    "df.to_parquet('../data/01-raw_data/raw_data_1h.parquet', index=False)\n",
    "# shape (63423, 6)"
   ]
  },
  {
   "cell_type": "code",
   "execution_count": 14,
   "metadata": {},
   "outputs": [
    {
     "name": "stdout",
     "output_type": "stream",
     "text": [
      "(63423, 6)\n"
     ]
    }
   ],
   "source": [
    "print(df.shape)"
   ]
  },
  {
   "cell_type": "code",
   "execution_count": 15,
   "metadata": {},
   "outputs": [
    {
     "name": "stdout",
     "output_type": "stream",
     "text": [
      "   timestamp     open     high      low    close       volume\n",
      "0 2017-08-17  4261.48  4485.39  4200.74  4285.08   795.150377\n",
      "1 2017-08-18  4285.08  4371.52  3938.77  4108.37  1199.888264\n",
      "2 2017-08-19  4108.37  4184.69  3850.00  4139.98   381.309763\n",
      "3 2017-08-20  4120.98  4211.08  4032.62  4086.29   467.083022\n",
      "4 2017-08-21  4069.13  4119.62  3911.79  4016.00   691.743060\n"
     ]
    }
   ],
   "source": [
    "# using the same method to extract data on 1 day timestamps (intervals)\n",
    "timeframe = '1d'\n",
    "since = exchange.parse8601('2017-01-01T00:00:00Z')\n",
    "\n",
    "#retrieve data in batches\n",
    "all_data = []\n",
    "while since < exchange.milliseconds():\n",
    "    data = exchange.fetch_ohlcv(symbol, timeframe, since=since, limit=500)\n",
    "    if not data:\n",
    "        break\n",
    "    all_data.extend(data)\n",
    "    since = data[-1][0] + 1\n",
    "\n",
    "df = pd.DataFrame(all_data, columns=['timestamp', 'open', 'high', 'low', 'close', 'volume'])\n",
    "df['timestamp'] = pd.to_datetime(df['timestamp'], unit='ms')\n",
    "print(df.head())"
   ]
  },
  {
   "cell_type": "code",
   "execution_count": 17,
   "metadata": {},
   "outputs": [],
   "source": [
    "# saving the 1d timestamp data into parquet\n",
    "df.to_parquet('../data/01-raw_data/raw_data_1d.parquet', index=False)\n",
    "# shape (2649, 6)"
   ]
  }
 ],
 "metadata": {
  "kernelspec": {
   "display_name": "ml",
   "language": "python",
   "name": "python3"
  },
  "language_info": {
   "codemirror_mode": {
    "name": "ipython",
    "version": 3
   },
   "file_extension": ".py",
   "mimetype": "text/x-python",
   "name": "python",
   "nbconvert_exporter": "python",
   "pygments_lexer": "ipython3",
   "version": "3.12.7"
  }
 },
 "nbformat": 4,
 "nbformat_minor": 2
}
