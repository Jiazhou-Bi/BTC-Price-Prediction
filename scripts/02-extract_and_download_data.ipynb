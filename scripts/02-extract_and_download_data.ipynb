{
 "cells": [
  {
   "cell_type": "code",
   "execution_count": 1,
   "metadata": {},
   "outputs": [],
   "source": [
    "#### Preamble ####\n",
    "# Purpose: Extacts and downloads and saves the data from IPUMS USA\n",
    "# Author: Jiazhou(Justin) Bi and Weiyang Li\n",
    "# Date: 3 October 2024\n",
    "# Contact: justin.bi@mail.utoronto.ca or weiyang.li@mail.utoronto.ca\n",
    "# License: MIT\n",
    "# Pre-requisites: python 3.10.5 or above, with pathlib and ipumspy installed for python\n",
    "# Any other information needed? None"
   ]
  },
  {
   "cell_type": "markdown",
   "metadata": {},
   "source": [
    "# Claim\n",
    "\n",
    "Currently, this API data extraction has limited features, compared to the web UI for data extraction and download. For example, custom sample size is not supported through this API interaction. Details available at: https://developer.ipums.org/docs/v2/apiprogram/apis/microdata/. Therefore, the dataset downloaded here will have all the individuals in the dataset. If we need to clean the dataset, we will do so in the \"03-clean_data.ipynb\" notebook file."
   ]
  },
  {
   "cell_type": "code",
   "execution_count": 1,
   "metadata": {},
   "outputs": [],
   "source": [
    "from pathlib import Path\n",
    "from ipumspy import IpumsApiClient, MicrodataExtract, readers, ddi\n",
    "import os\n",
    "import glob\n",
    "from dotenv import load_dotenv\n",
    "# You should set up a .env file containing your IPUMS API KEY in the same folder of this notebook\n",
    "load_dotenv()\n",
    "IPUMS_API_KEY = os.getenv('IPUMS_API_KEY')\n",
    "ipums = IpumsApiClient(IPUMS_API_KEY)"
   ]
  },
  {
   "cell_type": "code",
   "execution_count": 3,
   "metadata": {},
   "outputs": [
    {
     "data": {
      "text/plain": [
       "<ipumspy.api.extract.MicrodataExtract at 0x104aaad40>"
      ]
     },
     "execution_count": 3,
     "metadata": {},
     "output_type": "execute_result"
    }
   ],
   "source": [
    "# Defining the extract\n",
    "extract = MicrodataExtract(\n",
    "    \"usa\",\n",
    "    [\"us2022a\"],\n",
    "    [\"STATEICP\",\"CITY\",\"OWNERSHP\",\"MORTGAGE\",\"GQ\",\"SEX\",\"AGE\",\"MARST\",\"EDUC\",\"SCHLTYPE\",\"OCC2010\",\"VETSTAT\",\"IND1990\",\"INCTOT\"],\n",
    "    data_format= 'csv',\n",
    "    description=\"first data extraction\"\n",
    ")\n",
    "# submit your extract\n",
    "ipums.submit_extract(extract)"
   ]
  },
  {
   "cell_type": "code",
   "execution_count": 3,
   "metadata": {},
   "outputs": [
    {
     "name": "stdout",
     "output_type": "stream",
     "text": [
      "Extract downloaded to: ../data/01-raw_data\n"
     ]
    }
   ],
   "source": [
    "# Download the completed extract. Please wait until the status is 'completed' before running this cell. If you wish to check the extract status,\n",
    "# you can open a new cell and use the following code:\n",
    "# extract_status = ipums.extract_status(extract)\n",
    "# print(extract_status)\n",
    "extract_status = ipums.extract_status(extract)\n",
    "file_download_path = '../data/01-raw_data'\n",
    "if extract_status == 'completed':\n",
    "    ipums.download_extract(extract, download_dir = file_download_path,)\n",
    "    print(f\"Extract downloaded to: {file_download_path}\")\n",
    "else:\n",
    "    print(\"Extract is not yet completed.\")"
   ]
  },
  {
   "cell_type": "code",
   "execution_count": 4,
   "metadata": {},
   "outputs": [
    {
     "name": "stdout",
     "output_type": "stream",
     "text": [
      "File renamed to raw_data.csv.gz\n"
     ]
    }
   ],
   "source": [
    "#Changing the downloaded file name. This only works when one file was downloaded as it is only changing the name of the first file.\n",
    "download_path = '../data/01-raw_data'\n",
    "new_file_name = 'raw_data.csv.gz'\n",
    "old_file_path = glob.glob(os.path.join(download_path, '*.csv.gz'))[0]\n",
    "new_file_path = os.path.join(download_path, new_file_name)\n",
    "os.rename(old_file_path, new_file_path)\n",
    "print(f\"File renamed to {new_file_name}\")"
   ]
  }
 ],
 "metadata": {
  "kernelspec": {
   "display_name": "Python 3",
   "language": "python",
   "name": "python3"
  },
  "language_info": {
   "codemirror_mode": {
    "name": "ipython",
    "version": 3
   },
   "file_extension": ".py",
   "mimetype": "text/x-python",
   "name": "python",
   "nbconvert_exporter": "python",
   "pygments_lexer": "ipython3",
   "version": "3.10.5"
  }
 },
 "nbformat": 4,
 "nbformat_minor": 2
}
