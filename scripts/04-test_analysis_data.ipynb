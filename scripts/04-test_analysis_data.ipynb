{
 "cells": [
  {
   "cell_type": "code",
   "execution_count": null,
   "metadata": {},
   "outputs": [],
   "source": [
    "#### Preamble ####\n",
    "# Purpose: Validate all of the variables found the dataset\n",
    "# Author: Jiazhou(Justin) Bi and Weiyang Li\n",
    "# Date: 7 October 2024\n",
    "# Contact: justin.bi@mail.utoronto.ca or weiyang.li@mail.utoronto.ca\n",
    "# License: MIT\n",
    "# Pre-requisites: see requirements.txt\n",
    "# Any other information needed? None"
   ]
  },
  {
   "cell_type": "markdown",
   "metadata": {},
   "source": [
    "# Loading the Dataset and Necessary Libraries "
   ]
  },
  {
   "cell_type": "code",
   "execution_count": 2,
   "metadata": {},
   "outputs": [
    {
     "data": {
      "text/html": [
       "<div>\n",
       "<style scoped>\n",
       "    .dataframe tbody tr th:only-of-type {\n",
       "        vertical-align: middle;\n",
       "    }\n",
       "\n",
       "    .dataframe tbody tr th {\n",
       "        vertical-align: top;\n",
       "    }\n",
       "\n",
       "    .dataframe thead th {\n",
       "        text-align: right;\n",
       "    }\n",
       "</style>\n",
       "<table border=\"1\" class=\"dataframe\">\n",
       "  <thead>\n",
       "    <tr style=\"text-align: right;\">\n",
       "      <th></th>\n",
       "      <th>STATEICP</th>\n",
       "      <th>GQ</th>\n",
       "      <th>MORTGAGE</th>\n",
       "      <th>SEX</th>\n",
       "      <th>AGE</th>\n",
       "      <th>MARST</th>\n",
       "      <th>EDUC</th>\n",
       "      <th>SCHLTYPE</th>\n",
       "      <th>OCC2010</th>\n",
       "      <th>IND1990</th>\n",
       "      <th>INCTOT</th>\n",
       "      <th>VETSTAT</th>\n",
       "      <th>EDUC_new</th>\n",
       "    </tr>\n",
       "  </thead>\n",
       "  <tbody>\n",
       "    <tr>\n",
       "      <th>0</th>\n",
       "      <td>41</td>\n",
       "      <td>1</td>\n",
       "      <td>3</td>\n",
       "      <td>2</td>\n",
       "      <td>51</td>\n",
       "      <td>6</td>\n",
       "      <td>10</td>\n",
       "      <td>1</td>\n",
       "      <td>800</td>\n",
       "      <td>850</td>\n",
       "      <td>120000</td>\n",
       "      <td>1</td>\n",
       "      <td>4</td>\n",
       "    </tr>\n",
       "    <tr>\n",
       "      <th>1</th>\n",
       "      <td>41</td>\n",
       "      <td>1</td>\n",
       "      <td>3</td>\n",
       "      <td>1</td>\n",
       "      <td>61</td>\n",
       "      <td>1</td>\n",
       "      <td>8</td>\n",
       "      <td>1</td>\n",
       "      <td>4810</td>\n",
       "      <td>711</td>\n",
       "      <td>200000</td>\n",
       "      <td>1</td>\n",
       "      <td>4</td>\n",
       "    </tr>\n",
       "    <tr>\n",
       "      <th>2</th>\n",
       "      <td>41</td>\n",
       "      <td>1</td>\n",
       "      <td>1</td>\n",
       "      <td>1</td>\n",
       "      <td>63</td>\n",
       "      <td>1</td>\n",
       "      <td>7</td>\n",
       "      <td>1</td>\n",
       "      <td>8030</td>\n",
       "      <td>50</td>\n",
       "      <td>40000</td>\n",
       "      <td>1</td>\n",
       "      <td>4</td>\n",
       "    </tr>\n",
       "    <tr>\n",
       "      <th>3</th>\n",
       "      <td>41</td>\n",
       "      <td>1</td>\n",
       "      <td>1</td>\n",
       "      <td>2</td>\n",
       "      <td>36</td>\n",
       "      <td>4</td>\n",
       "      <td>7</td>\n",
       "      <td>1</td>\n",
       "      <td>120</td>\n",
       "      <td>702</td>\n",
       "      <td>50000</td>\n",
       "      <td>1</td>\n",
       "      <td>4</td>\n",
       "    </tr>\n",
       "    <tr>\n",
       "      <th>4</th>\n",
       "      <td>41</td>\n",
       "      <td>1</td>\n",
       "      <td>1</td>\n",
       "      <td>1</td>\n",
       "      <td>17</td>\n",
       "      <td>6</td>\n",
       "      <td>5</td>\n",
       "      <td>3</td>\n",
       "      <td>4000</td>\n",
       "      <td>641</td>\n",
       "      <td>400</td>\n",
       "      <td>1</td>\n",
       "      <td>3</td>\n",
       "    </tr>\n",
       "  </tbody>\n",
       "</table>\n",
       "</div>"
      ],
      "text/plain": [
       "  STATEICP GQ MORTGAGE SEX  AGE MARST  EDUC SCHLTYPE OCC2010 IND1990  INCTOT  \\\n",
       "0       41  1        3   2   51     6    10        1     800     850  120000   \n",
       "1       41  1        3   1   61     1     8        1    4810     711  200000   \n",
       "2       41  1        1   1   63     1     7        1    8030      50   40000   \n",
       "3       41  1        1   2   36     4     7        1     120     702   50000   \n",
       "4       41  1        1   1   17     6     5        3    4000     641     400   \n",
       "\n",
       "  VETSTAT  EDUC_new  \n",
       "0       1         4  \n",
       "1       1         4  \n",
       "2       1         4  \n",
       "3       1         4  \n",
       "4       1         3  "
      ]
     },
     "execution_count": 2,
     "metadata": {},
     "output_type": "execute_result"
    }
   ],
   "source": [
    "import pandas as pd\n",
    "df = pd.read_parquet('../data/02-analysis_data/cleaned_data.parquet')\n",
    "df.head()"
   ]
  },
  {
   "cell_type": "markdown",
   "metadata": {},
   "source": [
    "# STATE"
   ]
  },
  {
   "cell_type": "code",
   "execution_count": 3,
   "metadata": {},
   "outputs": [
    {
     "data": {
      "text/plain": [
       "51"
      ]
     },
     "execution_count": 3,
     "metadata": {},
     "output_type": "execute_result"
    }
   ],
   "source": [
    "# Checking it there are only 50 states, plus 4 other \n",
    "unique_state = df['STATEICP'].nunique()\n",
    "unique_state"
   ]
  },
  {
   "cell_type": "code",
   "execution_count": 4,
   "metadata": {},
   "outputs": [
    {
     "data": {
      "text/plain": [
       "1      17194\n",
       "11      4538\n",
       "12     42396\n",
       "13     80090\n",
       "14     61003\n",
       "2       6913\n",
       "21     59413\n",
       "22     32023\n",
       "23     47745\n",
       "24     54054\n",
       "25     30055\n",
       "3      32262\n",
       "31     16101\n",
       "32     13593\n",
       "33     30192\n",
       "34     28140\n",
       "35      9502\n",
       "36      3827\n",
       "37      4237\n",
       "4       7251\n",
       "40     38695\n",
       "41     21327\n",
       "42     12266\n",
       "43     88745\n",
       "44     46615\n",
       "45     18322\n",
       "46     11901\n",
       "47     45372\n",
       "48     23739\n",
       "49    121865\n",
       "5       4682\n",
       "51     19504\n",
       "52     29319\n",
       "53     14884\n",
       "54     30796\n",
       "56      7443\n",
       "6       3494\n",
       "61     29469\n",
       "62     27327\n",
       "63      8473\n",
       "64      4898\n",
       "65     12181\n",
       "66      8135\n",
       "67     15948\n",
       "68      2788\n",
       "71    140065\n",
       "72     17620\n",
       "73     33881\n",
       "81      2751\n",
       "82      5964\n",
       "98      2353\n",
       "Name: STATEICP, dtype: int64"
      ]
     },
     "execution_count": 4,
     "metadata": {},
     "output_type": "execute_result"
    }
   ],
   "source": [
    "# Checking which values are missing from the variable\n",
    "missing_state = df['STATEICP'].value_counts().sort_index()\n",
    "missing_state\n",
    "# 96                  State groupings (1980 Urban/rural sample)\n",
    "# 97                  Military/Mil. Reservations\n",
    "# 99                  State not identified\n",
    "#The aboved entries are missing from the dataset. "
   ]
  },
  {
   "cell_type": "markdown",
   "metadata": {},
   "source": [
    "# GQ"
   ]
  },
  {
   "cell_type": "code",
   "execution_count": 5,
   "metadata": {},
   "outputs": [
    {
     "data": {
      "text/plain": [
       "1    1429322\n",
       "2       1785\n",
       "5        244\n",
       "Name: GQ, dtype: int64"
      ]
     },
     "execution_count": 5,
     "metadata": {},
     "output_type": "execute_result"
    }
   ],
   "source": [
    "# There should be a maximum of 7 values for this variable (0 to 6)\n",
    "# 0                   Vacant unit\n",
    "#                     Households:\n",
    "# 1                   Households under 1970 definition\n",
    "# 2                   Additional households under 1990 definition\n",
    "#                     Group Quarters:\n",
    "# 3                   Group quarters--Institutions\n",
    "# 4                   Other group quarters\n",
    "# 5                   Additional households under 2000 definition\n",
    "# 6                   Fragment\n",
    "value_counts_GQ = df['GQ'].value_counts()\n",
    "value_counts_GQ\n",
    "#PASS"
   ]
  },
  {
   "cell_type": "markdown",
   "metadata": {},
   "source": [
    "# Mortgage"
   ]
  },
  {
   "cell_type": "code",
   "execution_count": 6,
   "metadata": {},
   "outputs": [
    {
     "data": {
      "text/plain": [
       "3    921093\n",
       "1    499181\n",
       "4     11077\n",
       "Name: MORTGAGE, dtype: int64"
      ]
     },
     "execution_count": 6,
     "metadata": {},
     "output_type": "execute_result"
    }
   ],
   "source": [
    "# 0                   N/A\n",
    "# 1                   No, owned free and clear\n",
    "# 2                   Check mark on manuscript (probably yes)\n",
    "# 3                   Yes, mortgaged/ deed of trust or similar debt\n",
    "# 4                   Yes, contract to purchase\n",
    "value_counts_MORTGAGE = df['MORTGAGE'].value_counts()\n",
    "value_counts_MORTGAGE"
   ]
  },
  {
   "cell_type": "markdown",
   "metadata": {},
   "source": [
    "# Sex"
   ]
  },
  {
   "cell_type": "code",
   "execution_count": 7,
   "metadata": {},
   "outputs": [
    {
     "data": {
      "text/plain": [
       "1    734219\n",
       "2    697132\n",
       "Name: SEX, dtype: int64"
      ]
     },
     "execution_count": 7,
     "metadata": {},
     "output_type": "execute_result"
    }
   ],
   "source": [
    "# 1                   Male\n",
    "# 2                   Female\n",
    "# 9                   Missing/blank\n",
    "value_counts_SEX = df['SEX'].value_counts()\n",
    "value_counts_SEX"
   ]
  },
  {
   "cell_type": "markdown",
   "metadata": {},
   "source": [
    "# Age"
   ]
  },
  {
   "cell_type": "code",
   "execution_count": 8,
   "metadata": {},
   "outputs": [
    {
     "name": "stdout",
     "output_type": "stream",
     "text": [
      "49.0\n"
     ]
    }
   ],
   "source": [
    "#Checking if this variable is working as intended\n",
    "median_AGE = df['AGE'].median()\n",
    "print(median_AGE)\n",
    "#PASS"
   ]
  },
  {
   "cell_type": "markdown",
   "metadata": {},
   "source": [
    "# MARST (Marital Status)"
   ]
  },
  {
   "cell_type": "code",
   "execution_count": 9,
   "metadata": {},
   "outputs": [
    {
     "data": {
      "text/plain": [
       "1    875028\n",
       "6    334779\n",
       "4    140832\n",
       "5     42638\n",
       "2     22902\n",
       "3     15172\n",
       "Name: MARST, dtype: int64"
      ]
     },
     "execution_count": 9,
     "metadata": {},
     "output_type": "execute_result"
    }
   ],
   "source": [
    "# 1                   Married, spouse present\n",
    "# 2                   Married, spouse absent\n",
    "# 3                   Separated\n",
    "# 4                   Divorced\n",
    "# 5                   Widowed\n",
    "# 6                   Never married/single\n",
    "# 9                   Blank, missing\n",
    "value_counts_MARST = df['MARST'].value_counts()\n",
    "value_counts_MARST"
   ]
  },
  {
   "cell_type": "markdown",
   "metadata": {},
   "source": [
    "# EDUC (Educational Attainment)"
   ]
  },
  {
   "cell_type": "code",
   "execution_count": 10,
   "metadata": {},
   "outputs": [
    {
     "data": {
      "text/plain": [
       "6     448566\n",
       "10    345871\n",
       "11    236958\n",
       "7     174428\n",
       "8     138555\n",
       "5      28262\n",
       "4      18698\n",
       "0      15559\n",
       "2      12809\n",
       "3       9093\n",
       "1       2552\n",
       "Name: EDUC, dtype: int64"
      ]
     },
     "execution_count": 10,
     "metadata": {},
     "output_type": "execute_result"
    }
   ],
   "source": [
    "# 00                  N/A or no schooling\n",
    "# 01                  Nursery school to grade 4\n",
    "# 02                  Grade 5, 6, 7, or 8\n",
    "# 03                  Grade 9\n",
    "# 04                  Grade 10\n",
    "# 05                  Grade 11\n",
    "# 06                  Grade 12\n",
    "# 07                  1 year of college\n",
    "# 08                  2 years of college\n",
    "# 09                  3 years of college\n",
    "# 10                  4 years of college\n",
    "# 11                  5+ years of college\n",
    "# 99                  Missing\n",
    "value_counts_EDUC = df['EDUC'].value_counts()\n",
    "value_counts_EDUC"
   ]
  },
  {
   "cell_type": "markdown",
   "metadata": {},
   "source": [
    "# EDUC_new (Regrouped)"
   ]
  },
  {
   "cell_type": "code",
   "execution_count": 11,
   "metadata": {},
   "outputs": [
    {
     "data": {
      "text/plain": [
       "4    658854\n",
       "3    504619\n",
       "5    236958\n",
       "0     15559\n",
       "2     12809\n",
       "1      2552\n",
       "Name: EDUC_new, dtype: int64"
      ]
     },
     "execution_count": 11,
     "metadata": {},
     "output_type": "execute_result"
    }
   ],
   "source": [
    "# 0: No Schooling\n",
    "# 1: Nursery School\n",
    "# 2: Primary School\n",
    "# 3: Middle School\n",
    "# 4: College 1-4 Years\n",
    "# 5: College 5+ Years\n",
    "value_counts_EDUC_new = df['EDUC_new'].value_counts()\n",
    "value_counts_EDUC_new"
   ]
  },
  {
   "cell_type": "markdown",
   "metadata": {},
   "source": [
    "# SCHLTYPE (School Type)"
   ]
  },
  {
   "cell_type": "code",
   "execution_count": 12,
   "metadata": {},
   "outputs": [
    {
     "data": {
      "text/plain": [
       "1    1311397\n",
       "2      94571\n",
       "3      25383\n",
       "Name: SCHLTYPE, dtype: int64"
      ]
     },
     "execution_count": 12,
     "metadata": {},
     "output_type": "execute_result"
    }
   ],
   "source": [
    "# 0                   N/A\n",
    "# 1                   Not enrolled\n",
    "# 2                   Public school\n",
    "# 3                   Private school (1960,1990-2000,ACS,PRCS)\n",
    "# 4                   Church-related (1980)\n",
    "# 5                   Parochial (1970)\n",
    "# 6                   Other private, 1980\n",
    "# 7                   Other private, 1970\n",
    "value_counts_SCHLTYPE = df['SCHLTYPE'].value_counts()\n",
    "value_counts_SCHLTYPE"
   ]
  },
  {
   "cell_type": "markdown",
   "metadata": {},
   "source": [
    "# OCC2010 (Occupation)"
   ]
  },
  {
   "cell_type": "code",
   "execution_count": 13,
   "metadata": {},
   "outputs": [
    {
     "data": {
      "text/plain": [
       "430     53906\n",
       "3130    38810\n",
       "4700    34828\n",
       "2310    33784\n",
       "9130    31788\n",
       "        ...  \n",
       "6740       85\n",
       "5340       84\n",
       "7830       80\n",
       "8850       78\n",
       "8910       76\n",
       "Name: OCC2010, Length: 427, dtype: int64"
      ]
     },
     "execution_count": 13,
     "metadata": {},
     "output_type": "execute_result"
    }
   ],
   "source": [
    "value_counts_OCC2010= df['OCC2010'].value_counts()\n",
    "value_counts_OCC2010"
   ]
  },
  {
   "cell_type": "markdown",
   "metadata": {},
   "source": [
    "# VETSTAT (Veteran Status)"
   ]
  },
  {
   "cell_type": "code",
   "execution_count": 14,
   "metadata": {},
   "outputs": [
    {
     "data": {
      "text/plain": [
       "1    1334292\n",
       "2      85654\n",
       "0      11405\n",
       "Name: VETSTAT, dtype: int64"
      ]
     },
     "execution_count": 14,
     "metadata": {},
     "output_type": "execute_result"
    }
   ],
   "source": [
    "# 0                   N/A\n",
    "# 1                   Not a veteran\n",
    "# 2                   Veteran\n",
    "# 9                   Unknown\n",
    "value_counts_VETSTAT= df['VETSTAT'].value_counts()\n",
    "value_counts_VETSTAT"
   ]
  },
  {
   "cell_type": "markdown",
   "metadata": {},
   "source": [
    "# INCTOT (Total Income)"
   ]
  },
  {
   "cell_type": "code",
   "execution_count": 15,
   "metadata": {},
   "outputs": [
    {
     "name": "stdout",
     "output_type": "stream",
     "text": [
      "The mean total income of this dataset is 68730.31508204486.\n",
      "The median total income of this dataset is 46800.0.\n"
     ]
    }
   ],
   "source": [
    "mean_INCTOT = df['INCTOT'].mean()\n",
    "median_INCTOT = df['INCTOT'].median()\n",
    "print(f\"The mean total income of this dataset is {mean_INCTOT}.\")\n",
    "print(f\"The median total income of this dataset is {median_INCTOT}.\")"
   ]
  }
 ],
 "metadata": {
  "kernelspec": {
   "display_name": "Python 3",
   "language": "python",
   "name": "python3"
  },
  "language_info": {
   "codemirror_mode": {
    "name": "ipython",
    "version": 3
   },
   "file_extension": ".py",
   "mimetype": "text/x-python",
   "name": "python",
   "nbconvert_exporter": "python",
   "pygments_lexer": "ipython3",
   "version": "3.10.5"
  }
 },
 "nbformat": 4,
 "nbformat_minor": 2
}
