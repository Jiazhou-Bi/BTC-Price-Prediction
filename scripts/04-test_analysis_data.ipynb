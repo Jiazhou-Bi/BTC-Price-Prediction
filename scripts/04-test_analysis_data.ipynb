{
 "cells": [
  {
   "cell_type": "code",
   "execution_count": 1,
   "metadata": {},
   "outputs": [],
   "source": [
    "#### Preamble ####\n",
    "# Purpose: Validate all of the variables found the dataset\n",
    "# Author: Jiazhou(Justin) Bi\n",
    "# Date: 16 Nov 2024\n",
    "# Contact: justin.bi@mail.utoronto.ca\n",
    "# License: MIT\n",
    "# Pre-requisites: see requirements.txt\n",
    "# Any other information needed? None"
   ]
  },
  {
   "cell_type": "markdown",
   "metadata": {},
   "source": [
    "# Loading the Dataset"
   ]
  },
  {
   "cell_type": "code",
   "execution_count": 2,
   "metadata": {},
   "outputs": [
    {
     "data": {
      "text/html": [
       "<div>\n",
       "<style scoped>\n",
       "    .dataframe tbody tr th:only-of-type {\n",
       "        vertical-align: middle;\n",
       "    }\n",
       "\n",
       "    .dataframe tbody tr th {\n",
       "        vertical-align: top;\n",
       "    }\n",
       "\n",
       "    .dataframe thead th {\n",
       "        text-align: right;\n",
       "    }\n",
       "</style>\n",
       "<table border=\"1\" class=\"dataframe\">\n",
       "  <thead>\n",
       "    <tr style=\"text-align: right;\">\n",
       "      <th></th>\n",
       "      <th>open</th>\n",
       "      <th>high</th>\n",
       "      <th>low</th>\n",
       "      <th>close</th>\n",
       "      <th>volume</th>\n",
       "      <th>index</th>\n",
       "      <th>was_missing</th>\n",
       "      <th>direction_t-1</th>\n",
       "      <th>direction_t+1</th>\n",
       "    </tr>\n",
       "  </thead>\n",
       "  <tbody>\n",
       "    <tr>\n",
       "      <th>0</th>\n",
       "      <td>4261.48</td>\n",
       "      <td>4313.62</td>\n",
       "      <td>4261.32</td>\n",
       "      <td>4308.83</td>\n",
       "      <td>47.181009</td>\n",
       "      <td>2017-08-17 04:00:00</td>\n",
       "      <td>0</td>\n",
       "      <td>0</td>\n",
       "      <td>1</td>\n",
       "    </tr>\n",
       "    <tr>\n",
       "      <th>1</th>\n",
       "      <td>4308.83</td>\n",
       "      <td>4328.69</td>\n",
       "      <td>4291.37</td>\n",
       "      <td>4315.32</td>\n",
       "      <td>23.234916</td>\n",
       "      <td>2017-08-17 05:00:00</td>\n",
       "      <td>0</td>\n",
       "      <td>1</td>\n",
       "      <td>1</td>\n",
       "    </tr>\n",
       "    <tr>\n",
       "      <th>2</th>\n",
       "      <td>4330.29</td>\n",
       "      <td>4345.45</td>\n",
       "      <td>4309.37</td>\n",
       "      <td>4324.35</td>\n",
       "      <td>7.229691</td>\n",
       "      <td>2017-08-17 06:00:00</td>\n",
       "      <td>0</td>\n",
       "      <td>1</td>\n",
       "      <td>1</td>\n",
       "    </tr>\n",
       "    <tr>\n",
       "      <th>3</th>\n",
       "      <td>4316.62</td>\n",
       "      <td>4349.99</td>\n",
       "      <td>4287.41</td>\n",
       "      <td>4349.99</td>\n",
       "      <td>4.443249</td>\n",
       "      <td>2017-08-17 07:00:00</td>\n",
       "      <td>0</td>\n",
       "      <td>1</td>\n",
       "      <td>1</td>\n",
       "    </tr>\n",
       "    <tr>\n",
       "      <th>4</th>\n",
       "      <td>4333.32</td>\n",
       "      <td>4377.85</td>\n",
       "      <td>4333.32</td>\n",
       "      <td>4360.69</td>\n",
       "      <td>0.972807</td>\n",
       "      <td>2017-08-17 08:00:00</td>\n",
       "      <td>0</td>\n",
       "      <td>1</td>\n",
       "      <td>1</td>\n",
       "    </tr>\n",
       "  </tbody>\n",
       "</table>\n",
       "</div>"
      ],
      "text/plain": [
       "      open     high      low    close     volume               index  \\\n",
       "0  4261.48  4313.62  4261.32  4308.83  47.181009 2017-08-17 04:00:00   \n",
       "1  4308.83  4328.69  4291.37  4315.32  23.234916 2017-08-17 05:00:00   \n",
       "2  4330.29  4345.45  4309.37  4324.35   7.229691 2017-08-17 06:00:00   \n",
       "3  4316.62  4349.99  4287.41  4349.99   4.443249 2017-08-17 07:00:00   \n",
       "4  4333.32  4377.85  4333.32  4360.69   0.972807 2017-08-17 08:00:00   \n",
       "\n",
       "   was_missing  direction_t-1  direction_t+1  \n",
       "0            0              0              1  \n",
       "1            0              1              1  \n",
       "2            0              1              1  \n",
       "3            0              1              1  \n",
       "4            0              1              1  "
      ]
     },
     "execution_count": 2,
     "metadata": {},
     "output_type": "execute_result"
    }
   ],
   "source": [
    "import pandas as pd\n",
    "df_1m = pd.read_parquet('../data/02-analysis_data/cleaned_data_1m.parquet')\n",
    "df_1h = pd.read_parquet('../data/02-analysis_data/cleaned_data_1h.parquet')\n",
    "df_1d = pd.read_parquet('../data/02-analysis_data/cleaned_data_1d.parquet')\n",
    "df_1h.head()"
   ]
  },
  {
   "cell_type": "markdown",
   "metadata": {},
   "source": [
    "# Open"
   ]
  },
  {
   "cell_type": "markdown",
   "metadata": {},
   "source": [
    "The open price should always be lower than or equal to the high price, and always higher or equal to the low price. This subsection will check if this logic is correct."
   ]
  },
  {
   "cell_type": "code",
   "execution_count": 3,
   "metadata": {},
   "outputs": [
    {
     "name": "stdout",
     "output_type": "stream",
     "text": [
      "PASS\n"
     ]
    }
   ],
   "source": [
    "if all((df_1m['open'] <= df_1m['high']) & (df_1m['open'] >= df_1m['low'])):\n",
    "    print('PASS')\n",
    "else:\n",
    "    print('FAIL')"
   ]
  },
  {
   "cell_type": "code",
   "execution_count": 4,
   "metadata": {},
   "outputs": [
    {
     "name": "stdout",
     "output_type": "stream",
     "text": [
      "PASS\n"
     ]
    }
   ],
   "source": [
    "if all((df_1h['open'] <= df_1h['high']) & (df_1h['open'] >= df_1h['low'])):\n",
    "    print('PASS')\n",
    "else:\n",
    "    print('FAIL')"
   ]
  },
  {
   "cell_type": "code",
   "execution_count": 5,
   "metadata": {},
   "outputs": [
    {
     "name": "stdout",
     "output_type": "stream",
     "text": [
      "PASS\n"
     ]
    }
   ],
   "source": [
    "if all((df_1d['open'] <= df_1d['high']) & (df_1d['open'] >= df_1d['low'])):\n",
    "    print('PASS')\n",
    "else:\n",
    "    print('FAIL')"
   ]
  },
  {
   "cell_type": "markdown",
   "metadata": {},
   "source": [
    "Originally, missing values were found here. Fixed them in 03-clean_data.ipynb, and they are fixed now."
   ]
  },
  {
   "cell_type": "markdown",
   "metadata": {},
   "source": [
    "# High"
   ]
  },
  {
   "cell_type": "markdown",
   "metadata": {},
   "source": [
    "The high price should always be higher or equal to the open, low price, and close. This subsection will check if this logic is correct."
   ]
  },
  {
   "cell_type": "code",
   "execution_count": 6,
   "metadata": {},
   "outputs": [
    {
     "name": "stdout",
     "output_type": "stream",
     "text": [
      "PASS\n"
     ]
    }
   ],
   "source": [
    "if all((df_1m['high'] >= df_1m['open']) & (df_1m['high'] >= df_1m['low']) &(df_1m['high'] >= df_1m['close'])):\n",
    "    print('PASS')\n",
    "else:\n",
    "    print('FAIL')"
   ]
  },
  {
   "cell_type": "code",
   "execution_count": 7,
   "metadata": {},
   "outputs": [
    {
     "name": "stdout",
     "output_type": "stream",
     "text": [
      "PASS\n"
     ]
    }
   ],
   "source": [
    "if all((df_1h['high'] >= df_1h['open']) & (df_1h['high'] >= df_1h['low']) &(df_1h['high'] >= df_1h['close'])):\n",
    "    print('PASS')\n",
    "else:\n",
    "    print('FAIL')"
   ]
  },
  {
   "cell_type": "code",
   "execution_count": 8,
   "metadata": {},
   "outputs": [
    {
     "name": "stdout",
     "output_type": "stream",
     "text": [
      "PASS\n"
     ]
    }
   ],
   "source": [
    "if all((df_1d['high'] >= df_1d['open']) & (df_1d['high'] >= df_1d['low']) &(df_1d['high'] >= df_1d['close'])):\n",
    "    print('PASS')\n",
    "else:\n",
    "    print('FAIL')"
   ]
  },
  {
   "cell_type": "markdown",
   "metadata": {},
   "source": [
    "# Low"
   ]
  },
  {
   "cell_type": "markdown",
   "metadata": {},
   "source": [
    "The low price should always be lower or equal to the open, high price, and close. This subsection will check if this logic is correct.\n"
   ]
  },
  {
   "cell_type": "code",
   "execution_count": 9,
   "metadata": {},
   "outputs": [
    {
     "name": "stdout",
     "output_type": "stream",
     "text": [
      "PASS\n"
     ]
    }
   ],
   "source": [
    "if all((df_1m['low'] <= df_1m['open']) & (df_1m['low'] <= df_1m['high']) &(df_1m['low'] <= df_1m['close'])):\n",
    "    print('PASS')\n",
    "else:\n",
    "    print('FAIL')"
   ]
  },
  {
   "cell_type": "code",
   "execution_count": 10,
   "metadata": {},
   "outputs": [
    {
     "name": "stdout",
     "output_type": "stream",
     "text": [
      "PASS\n"
     ]
    }
   ],
   "source": [
    "if all((df_1h['low'] <= df_1h['open']) & (df_1h['low'] <= df_1h['high']) &(df_1h['low'] <= df_1h['close'])):\n",
    "    print('PASS')\n",
    "else:\n",
    "    print('FAIL')"
   ]
  },
  {
   "cell_type": "code",
   "execution_count": 11,
   "metadata": {},
   "outputs": [
    {
     "name": "stdout",
     "output_type": "stream",
     "text": [
      "PASS\n"
     ]
    }
   ],
   "source": [
    "if all((df_1d['low'] <= df_1d['open']) & (df_1d['low'] <= df_1d['high']) &(df_1d['low'] <= df_1d['close'])):\n",
    "    print('PASS')\n",
    "else:\n",
    "    print('FAIL')"
   ]
  },
  {
   "cell_type": "markdown",
   "metadata": {},
   "source": [
    "# Close"
   ]
  },
  {
   "cell_type": "markdown",
   "metadata": {},
   "source": [
    "The close price should always be lower than or equal to the high price, and always higher or equal to the low price. Although this has been proven by the subsections above, we will double-check  the data. This subsection will check if this logic is correct."
   ]
  },
  {
   "cell_type": "code",
   "execution_count": 12,
   "metadata": {},
   "outputs": [
    {
     "name": "stdout",
     "output_type": "stream",
     "text": [
      "PASS\n"
     ]
    }
   ],
   "source": [
    "if all((df_1m['close'] <= df_1m['high']) & (df_1m['close'] >= df_1m['low'])):\n",
    "    print('PASS')\n",
    "else:\n",
    "    print('FAIL')"
   ]
  },
  {
   "cell_type": "code",
   "execution_count": 13,
   "metadata": {},
   "outputs": [
    {
     "name": "stdout",
     "output_type": "stream",
     "text": [
      "PASS\n"
     ]
    }
   ],
   "source": [
    "if all((df_1h['close'] <= df_1h['high']) & (df_1h['close'] >= df_1h['low'])):\n",
    "    print('PASS')\n",
    "else:\n",
    "    print('FAIL')"
   ]
  },
  {
   "cell_type": "code",
   "execution_count": 14,
   "metadata": {},
   "outputs": [
    {
     "name": "stdout",
     "output_type": "stream",
     "text": [
      "PASS\n"
     ]
    }
   ],
   "source": [
    "if all((df_1d['close'] <= df_1d['high']) & (df_1d['close'] >= df_1d['low'])):\n",
    "    print('PASS')\n",
    "else:\n",
    "    print('FAIL')"
   ]
  },
  {
   "cell_type": "markdown",
   "metadata": {},
   "source": [
    "# Volume"
   ]
  },
  {
   "cell_type": "markdown",
   "metadata": {},
   "source": [
    "Volume can be any number that is non-negative. This subsection will verify this logic."
   ]
  },
  {
   "cell_type": "code",
   "execution_count": 15,
   "metadata": {},
   "outputs": [
    {
     "name": "stdout",
     "output_type": "stream",
     "text": [
      "PASS\n"
     ]
    }
   ],
   "source": [
    "if all(df_1d['volume'] >= 0):\n",
    "    print('PASS')\n",
    "else:\n",
    "    print('FAIL')"
   ]
  },
  {
   "cell_type": "markdown",
   "metadata": {},
   "source": [
    "# Was_missing"
   ]
  },
  {
   "cell_type": "markdown",
   "metadata": {},
   "source": [
    "This column is generated in 03-clean_data.ipynb to serve as a flag to indicate if the row exists originally from the raw dataset, or was missing and interpolated. It should either be 0 (originally exist) or 1(originally missing). This subsection will verify this. Note that there was no missing values for the 1-day dataset, so this column does not exist in that dataset."
   ]
  },
  {
   "cell_type": "code",
   "execution_count": 16,
   "metadata": {},
   "outputs": [
    {
     "name": "stdout",
     "output_type": "stream",
     "text": [
      "[0 1]\n",
      "0\n"
     ]
    }
   ],
   "source": [
    "unique_values = df_1m['was_missing'].unique()\n",
    "print(unique_values)\n",
    "print(df_1m['was_missing'].isna().sum())"
   ]
  },
  {
   "cell_type": "code",
   "execution_count": 17,
   "metadata": {},
   "outputs": [
    {
     "name": "stdout",
     "output_type": "stream",
     "text": [
      "[0 1]\n",
      "0\n"
     ]
    }
   ],
   "source": [
    "unique_values = df_1h['was_missing'].unique()\n",
    "print(unique_values)\n",
    "print(df_1h['was_missing'].isna().sum())"
   ]
  },
  {
   "cell_type": "markdown",
   "metadata": {},
   "source": [
    "# Direction"
   ]
  },
  {
   "cell_type": "markdown",
   "metadata": {},
   "source": [
    "This column is generated in 03-clean_data.ipynb to serve as an indicator whether the closing price has increased, decreased, or remained the same for the previous timestamp. It should either be -1 (decreased), 0 (remianed the same), or 1(increased). This subsection will verify this."
   ]
  },
  {
   "cell_type": "code",
   "execution_count": 18,
   "metadata": {},
   "outputs": [
    {
     "name": "stdout",
     "output_type": "stream",
     "text": [
      "[ 0  1 -1]\n",
      "0\n"
     ]
    }
   ],
   "source": [
    "unique_values = df_1m['direction_t-1'].unique()\n",
    "print(unique_values)\n",
    "print(df_1m['direction_t-1'].isna().sum())"
   ]
  },
  {
   "cell_type": "code",
   "execution_count": 19,
   "metadata": {},
   "outputs": [
    {
     "name": "stdout",
     "output_type": "stream",
     "text": [
      "[ 0  1 -1]\n",
      "0\n"
     ]
    }
   ],
   "source": [
    "unique_values = df_1m['direction_t+1'].unique()\n",
    "print(unique_values)\n",
    "df_1m['direction_t+1'] = df_1m['direction_t+1'].astype(int)\n",
    "print(df_1m['direction_t+1'].isna().sum())"
   ]
  },
  {
   "cell_type": "code",
   "execution_count": 20,
   "metadata": {},
   "outputs": [
    {
     "name": "stdout",
     "output_type": "stream",
     "text": [
      "[ 0  1 -1]\n",
      "0\n"
     ]
    }
   ],
   "source": [
    "unique_values = df_1h['direction_t-1'].unique()\n",
    "print(unique_values)\n",
    "print(df_1h['direction_t-1'].isna().sum())"
   ]
  },
  {
   "cell_type": "code",
   "execution_count": 21,
   "metadata": {},
   "outputs": [
    {
     "name": "stdout",
     "output_type": "stream",
     "text": [
      "[ 1 -1  0]\n",
      "0\n"
     ]
    }
   ],
   "source": [
    "unique_values = df_1h['direction_t+1'].unique()\n",
    "print(unique_values)\n",
    "df_1h['direction_t+1'] = df_1h['direction_t+1'].astype(int)\n",
    "print(df_1h['direction_t+1'].isna().sum())"
   ]
  },
  {
   "cell_type": "code",
   "execution_count": 22,
   "metadata": {},
   "outputs": [
    {
     "name": "stdout",
     "output_type": "stream",
     "text": [
      "[ 0 -1  1]\n",
      "0\n"
     ]
    }
   ],
   "source": [
    "unique_values = df_1d['direction_t-1'].unique()\n",
    "print(unique_values)\n",
    "print(df_1d['direction_t-1'].isna().sum())"
   ]
  },
  {
   "cell_type": "code",
   "execution_count": 23,
   "metadata": {},
   "outputs": [
    {
     "name": "stdout",
     "output_type": "stream",
     "text": [
      "[-1  1  0]\n",
      "0\n"
     ]
    }
   ],
   "source": [
    "unique_values = df_1d['direction_t+1'].unique()\n",
    "print(unique_values)\n",
    "df_1d['direction_t+1'] = df_1d['direction_t+1'].astype(int)\n",
    "print(df_1d['direction_t+1'].isna().sum())"
   ]
  }
 ],
 "metadata": {
  "kernelspec": {
   "display_name": "ml",
   "language": "python",
   "name": "python3"
  },
  "language_info": {
   "codemirror_mode": {
    "name": "ipython",
    "version": 3
   },
   "file_extension": ".py",
   "mimetype": "text/x-python",
   "name": "python",
   "nbconvert_exporter": "python",
   "pygments_lexer": "ipython3",
   "version": "3.12.7"
  }
 },
 "nbformat": 4,
 "nbformat_minor": 2
}
