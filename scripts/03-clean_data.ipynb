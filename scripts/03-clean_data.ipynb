{
 "cells": [
  {
   "cell_type": "code",
   "execution_count": 540,
   "metadata": {},
   "outputs": [],
   "source": [
    "#### Preamble ####\n",
    "# Purpose: Cleans, engineers, and saves the cleaned data \n",
    "# Author: Jiazhou(Justin) Bi\n",
    "# Date: 15 Nov 2024\n",
    "# Contact: justin.bi@mail.utoronto.ca\n",
    "# License: None\n",
    "# Pre-requisites: see requirements.txt\n",
    "# Any other information needed? None"
   ]
  },
  {
   "cell_type": "markdown",
   "metadata": {},
   "source": [
    "# Loading the data"
   ]
  },
  {
   "cell_type": "code",
   "execution_count": 541,
   "metadata": {},
   "outputs": [],
   "source": [
    "import pandas as pd"
   ]
  },
  {
   "cell_type": "code",
   "execution_count": 542,
   "metadata": {},
   "outputs": [],
   "source": [
    "#Loading the datasets as DataFrame\n",
    "df_1m = pd.read_parquet('../data/01-raw_data/raw_data_1m.parquet')\n",
    "df_1h = pd.read_parquet('../data/01-raw_data/raw_data_1h.parquet')\n",
    "df_1d = pd.read_parquet('../data/01-raw_data/raw_data_1d.parquet')\n",
    "# print(df_1m.head())\n",
    "# print(df_1h.head())\n",
    "# print(df_1d.head())"
   ]
  },
  {
   "cell_type": "markdown",
   "metadata": {},
   "source": [
    "# Checking for Missing Values"
   ]
  },
  {
   "cell_type": "code",
   "execution_count": 543,
   "metadata": {},
   "outputs": [
    {
     "data": {
      "text/plain": [
       "timestamp    0\n",
       "open         0\n",
       "high         0\n",
       "low          0\n",
       "close        0\n",
       "volume       0\n",
       "dtype: int64"
      ]
     },
     "execution_count": 543,
     "metadata": {},
     "output_type": "execute_result"
    }
   ],
   "source": [
    "df_1m.isna().sum()"
   ]
  },
  {
   "cell_type": "code",
   "execution_count": 544,
   "metadata": {},
   "outputs": [
    {
     "data": {
      "text/plain": [
       "timestamp    0\n",
       "open         0\n",
       "high         0\n",
       "low          0\n",
       "close        0\n",
       "volume       0\n",
       "dtype: int64"
      ]
     },
     "execution_count": 544,
     "metadata": {},
     "output_type": "execute_result"
    }
   ],
   "source": [
    "df_1h.isna().sum()"
   ]
  },
  {
   "cell_type": "code",
   "execution_count": 545,
   "metadata": {},
   "outputs": [
    {
     "data": {
      "text/plain": [
       "timestamp    0\n",
       "open         0\n",
       "high         0\n",
       "low          0\n",
       "close        0\n",
       "volume       0\n",
       "dtype: int64"
      ]
     },
     "execution_count": 545,
     "metadata": {},
     "output_type": "execute_result"
    }
   ],
   "source": [
    "df_1d.isna().sum()"
   ]
  },
  {
   "cell_type": "markdown",
   "metadata": {},
   "source": [
    "There are no missing values found in these datasets."
   ]
  },
  {
   "cell_type": "markdown",
   "metadata": {},
   "source": [
    "# Data Types"
   ]
  },
  {
   "cell_type": "markdown",
   "metadata": {},
   "source": [
    "This section examines the datatypes of each column and ensures they are appropriate for the analysis."
   ]
  },
  {
   "cell_type": "code",
   "execution_count": 546,
   "metadata": {},
   "outputs": [
    {
     "data": {
      "text/plain": [
       "timestamp    datetime64[ns]\n",
       "open                float64\n",
       "high                float64\n",
       "low                 float64\n",
       "close               float64\n",
       "volume              float64\n",
       "dtype: object"
      ]
     },
     "execution_count": 546,
     "metadata": {},
     "output_type": "execute_result"
    }
   ],
   "source": [
    "df_1m.dtypes"
   ]
  },
  {
   "cell_type": "code",
   "execution_count": 547,
   "metadata": {},
   "outputs": [
    {
     "data": {
      "text/plain": [
       "timestamp    datetime64[ns]\n",
       "open                float64\n",
       "high                float64\n",
       "low                 float64\n",
       "close               float64\n",
       "volume              float64\n",
       "dtype: object"
      ]
     },
     "execution_count": 547,
     "metadata": {},
     "output_type": "execute_result"
    }
   ],
   "source": [
    "df_1h.dtypes"
   ]
  },
  {
   "cell_type": "code",
   "execution_count": 548,
   "metadata": {},
   "outputs": [
    {
     "data": {
      "text/plain": [
       "timestamp    datetime64[ns]\n",
       "open                float64\n",
       "high                float64\n",
       "low                 float64\n",
       "close               float64\n",
       "volume              float64\n",
       "dtype: object"
      ]
     },
     "execution_count": 548,
     "metadata": {},
     "output_type": "execute_result"
    }
   ],
   "source": [
    "df_1d.dtypes"
   ]
  },
  {
   "cell_type": "markdown",
   "metadata": {},
   "source": [
    "# Data Validation"
   ]
  },
  {
   "cell_type": "markdown",
   "metadata": {},
   "source": [
    "This section is to validate if the datasets are consecutive. That is, for the 1-minute timestamp dataset, no minutes should be skipped. Same logic appleis to the 1-hour and 1-day timestamp datasets."
   ]
  },
  {
   "cell_type": "markdown",
   "metadata": {},
   "source": [
    "## Validating if any minute is missing"
   ]
  },
  {
   "cell_type": "code",
   "execution_count": 549,
   "metadata": {},
   "outputs": [],
   "source": [
    "# creating a full range of minutes for the 1-minute dataset\n",
    "full_minute_range = pd.date_range(start=df_1m['timestamp'].min(), end=df_1m['timestamp'].max(), freq='1min')\n",
    "# print(full_minute_range)"
   ]
  },
  {
   "cell_type": "code",
   "execution_count": 550,
   "metadata": {},
   "outputs": [],
   "source": [
    "# Reindexing the DataFrame\n",
    "df_1m.set_index('timestamp', inplace=True)\n",
    "df_1m = df_1m.reindex(full_minute_range)\n",
    "df_1m.index.name = 'index'\n",
    "df_1m['index'] = df_1m.index\n",
    "df_1m.reset_index(drop=True, inplace=True)"
   ]
  },
  {
   "cell_type": "code",
   "execution_count": 551,
   "metadata": {},
   "outputs": [
    {
     "name": "stdout",
     "output_type": "stream",
     "text": [
      "Rows with missing values:\n",
      "         open  high  low  close  volume               index\n",
      "29521     NaN   NaN  NaN    NaN     NaN 2017-09-06 16:01:00\n",
      "29522     NaN   NaN  NaN    NaN     NaN 2017-09-06 16:02:00\n",
      "29523     NaN   NaN  NaN    NaN     NaN 2017-09-06 16:03:00\n",
      "29524     NaN   NaN  NaN    NaN     NaN 2017-09-06 16:04:00\n",
      "29525     NaN   NaN  NaN    NaN     NaN 2017-09-06 16:05:00\n",
      "...       ...   ...  ...    ...     ...                 ...\n",
      "2945395   NaN   NaN  NaN    NaN     NaN 2023-03-24 13:55:00\n",
      "2945396   NaN   NaN  NaN    NaN     NaN 2023-03-24 13:56:00\n",
      "2945397   NaN   NaN  NaN    NaN     NaN 2023-03-24 13:57:00\n",
      "2945398   NaN   NaN  NaN    NaN     NaN 2023-03-24 13:58:00\n",
      "2945399   NaN   NaN  NaN    NaN     NaN 2023-03-24 13:59:00\n",
      "\n",
      "[8632 rows x 6 columns]\n"
     ]
    }
   ],
   "source": [
    "# Check for missing values across the entire DataFrame\n",
    "missing_rows = df_1m[df_1m.isna().any(axis=1)]\n",
    "\n",
    "if missing_rows.empty:\n",
    "    print(\"No missing values.\")\n",
    "else:\n",
    "    print(\"Rows with missing values:\")\n",
    "    print(missing_rows)"
   ]
  },
  {
   "cell_type": "markdown",
   "metadata": {},
   "source": [
    "There are missing minutes. We will first mark the missing rows down in a new column called 'was_miss'. 1 indicates the row was empty and 0 means not. Then the missing values are filled with linear interpolation, except the column \"volume\", which is replaced with 0."
   ]
  },
  {
   "cell_type": "code",
   "execution_count": 552,
   "metadata": {},
   "outputs": [],
   "source": [
    "# creating an indicator to flag the missing rows\n",
    "df_1m['was_missing'] = df_1m.isna().any(axis=1).astype(int)\n",
    "\n",
    "# Interpolate missing values\n",
    "df_1m.interpolate(method='linear', inplace=True)\n",
    "df_1m.loc[df_1m['was_missing'] == 1, 'volume'] = 0"
   ]
  },
  {
   "cell_type": "code",
   "execution_count": 553,
   "metadata": {},
   "outputs": [
    {
     "name": "stdout",
     "output_type": "stream",
     "text": [
      "No missing values.\n"
     ]
    }
   ],
   "source": [
    "# Check agian for missing values across the entire DataFrame\n",
    "missing_rows = df_1m[df_1m.isna().any(axis=1)]\n",
    "\n",
    "if missing_rows.empty:\n",
    "    print(\"No missing values.\")\n",
    "else:\n",
    "    print(\"Rows with missing values:\")\n",
    "    print(missing_rows)"
   ]
  },
  {
   "cell_type": "markdown",
   "metadata": {},
   "source": [
    "## Validating if any hour is missing from the 1-hour dataset"
   ]
  },
  {
   "cell_type": "code",
   "execution_count": 554,
   "metadata": {},
   "outputs": [
    {
     "name": "stdout",
     "output_type": "stream",
     "text": [
      "Rows with missing values:\n",
      "       open  high  low  close  volume               index\n",
      "493     NaN   NaN  NaN    NaN     NaN 2017-09-06 17:00:00\n",
      "494     NaN   NaN  NaN    NaN     NaN 2017-09-06 18:00:00\n",
      "495     NaN   NaN  NaN    NaN     NaN 2017-09-06 19:00:00\n",
      "496     NaN   NaN  NaN    NaN     NaN 2017-09-06 20:00:00\n",
      "497     NaN   NaN  NaN    NaN     NaN 2017-09-06 21:00:00\n",
      "...     ...   ...  ...    ...     ...                 ...\n",
      "34968   NaN   NaN  NaN    NaN     NaN 2021-08-13 04:00:00\n",
      "34969   NaN   NaN  NaN    NaN     NaN 2021-08-13 05:00:00\n",
      "36099   NaN   NaN  NaN    NaN     NaN 2021-09-29 07:00:00\n",
      "36100   NaN   NaN  NaN    NaN     NaN 2021-09-29 08:00:00\n",
      "49089   NaN   NaN  NaN    NaN     NaN 2023-03-24 13:00:00\n",
      "\n",
      "[128 rows x 6 columns]\n"
     ]
    }
   ],
   "source": [
    "# using the same logic as above\n",
    "full_hour_range = pd.date_range(start=df_1h['timestamp'].min(), end=df_1h['timestamp'].max(), freq='1h')\n",
    "\n",
    "# Reindexing the DataFrame\n",
    "df_1h.set_index('timestamp', inplace=True)\n",
    "df_1h = df_1h.reindex(full_hour_range)\n",
    "df_1h.index.name = 'index'\n",
    "df_1h['index'] = df_1h.index\n",
    "df_1h.reset_index(drop=True, inplace=True)\n",
    "\n",
    "# Check for missing values across the entire DataFrame\n",
    "missing_rows_1h = df_1h[df_1h.isna().any(axis=1)]\n",
    "\n",
    "if missing_rows_1h.empty:\n",
    "    print(\"No missing values.\")\n",
    "else:\n",
    "    print(\"Rows with missing values:\")\n",
    "    print(missing_rows_1h)"
   ]
  },
  {
   "cell_type": "code",
   "execution_count": 555,
   "metadata": {},
   "outputs": [
    {
     "name": "stdout",
     "output_type": "stream",
     "text": [
      "No missing values.\n"
     ]
    }
   ],
   "source": [
    "# applying the same logic as above\n",
    "df_1h['was_missing'] = df_1h.isna().any(axis=1).astype(int)\n",
    "\n",
    "# Interpolate missing values\n",
    "df_1h.interpolate(method='linear', inplace=True)\n",
    "df_1h.loc[df_1h['was_missing'] == 1, 'volume'] = 0\n",
    "\n",
    "# Check agian for missing values across the entire DataFrame\n",
    "missing_rows_1h = df_1h[df_1h.isna().any(axis=1)]\n",
    "\n",
    "if missing_rows_1h.empty:\n",
    "    print(\"No missing values.\")\n",
    "else:\n",
    "    print(\"Rows with missing values:\")\n",
    "    print(missing_rows_1h)"
   ]
  },
  {
   "cell_type": "markdown",
   "metadata": {},
   "source": [
    "## Validating if any day is missing from the 1-day dataset"
   ]
  },
  {
   "cell_type": "code",
   "execution_count": 556,
   "metadata": {},
   "outputs": [
    {
     "data": {
      "text/html": [
       "<div>\n",
       "<style scoped>\n",
       "    .dataframe tbody tr th:only-of-type {\n",
       "        vertical-align: middle;\n",
       "    }\n",
       "\n",
       "    .dataframe tbody tr th {\n",
       "        vertical-align: top;\n",
       "    }\n",
       "\n",
       "    .dataframe thead th {\n",
       "        text-align: right;\n",
       "    }\n",
       "</style>\n",
       "<table border=\"1\" class=\"dataframe\">\n",
       "  <thead>\n",
       "    <tr style=\"text-align: right;\">\n",
       "      <th></th>\n",
       "      <th>timestamp</th>\n",
       "      <th>open</th>\n",
       "      <th>high</th>\n",
       "      <th>low</th>\n",
       "      <th>close</th>\n",
       "      <th>volume</th>\n",
       "    </tr>\n",
       "  </thead>\n",
       "  <tbody>\n",
       "    <tr>\n",
       "      <th>0</th>\n",
       "      <td>2017-08-17</td>\n",
       "      <td>4261.48</td>\n",
       "      <td>4485.39</td>\n",
       "      <td>4200.74</td>\n",
       "      <td>4285.08</td>\n",
       "      <td>795.150377</td>\n",
       "    </tr>\n",
       "    <tr>\n",
       "      <th>1</th>\n",
       "      <td>2017-08-18</td>\n",
       "      <td>4285.08</td>\n",
       "      <td>4371.52</td>\n",
       "      <td>3938.77</td>\n",
       "      <td>4108.37</td>\n",
       "      <td>1199.888264</td>\n",
       "    </tr>\n",
       "    <tr>\n",
       "      <th>2</th>\n",
       "      <td>2017-08-19</td>\n",
       "      <td>4108.37</td>\n",
       "      <td>4184.69</td>\n",
       "      <td>3850.00</td>\n",
       "      <td>4139.98</td>\n",
       "      <td>381.309763</td>\n",
       "    </tr>\n",
       "    <tr>\n",
       "      <th>3</th>\n",
       "      <td>2017-08-20</td>\n",
       "      <td>4120.98</td>\n",
       "      <td>4211.08</td>\n",
       "      <td>4032.62</td>\n",
       "      <td>4086.29</td>\n",
       "      <td>467.083022</td>\n",
       "    </tr>\n",
       "    <tr>\n",
       "      <th>4</th>\n",
       "      <td>2017-08-21</td>\n",
       "      <td>4069.13</td>\n",
       "      <td>4119.62</td>\n",
       "      <td>3911.79</td>\n",
       "      <td>4016.00</td>\n",
       "      <td>691.743060</td>\n",
       "    </tr>\n",
       "  </tbody>\n",
       "</table>\n",
       "</div>"
      ],
      "text/plain": [
       "   timestamp     open     high      low    close       volume\n",
       "0 2017-08-17  4261.48  4485.39  4200.74  4285.08   795.150377\n",
       "1 2017-08-18  4285.08  4371.52  3938.77  4108.37  1199.888264\n",
       "2 2017-08-19  4108.37  4184.69  3850.00  4139.98   381.309763\n",
       "3 2017-08-20  4120.98  4211.08  4032.62  4086.29   467.083022\n",
       "4 2017-08-21  4069.13  4119.62  3911.79  4016.00   691.743060"
      ]
     },
     "execution_count": 556,
     "metadata": {},
     "output_type": "execute_result"
    }
   ],
   "source": [
    "df_1d.head()"
   ]
  },
  {
   "cell_type": "code",
   "execution_count": 557,
   "metadata": {},
   "outputs": [
    {
     "name": "stdout",
     "output_type": "stream",
     "text": [
      "No missing values.\n"
     ]
    }
   ],
   "source": [
    "# using the same logic as above\n",
    "full_day_range = pd.date_range(start=df_1d['timestamp'].min(), end=df_1d['timestamp'].max(), freq='1d')\n",
    "\n",
    "# Reindexing the DataFrame\n",
    "df_1d.set_index('timestamp', inplace=True)\n",
    "df_1d = df_1d.reindex(full_day_range)\n",
    "df_1d.index.name = 'index'\n",
    "df_1d['index'] = df_1d.index\n",
    "df_1d.reset_index(drop=True, inplace=True)\n",
    "\n",
    "# Check for missing values across the entire DataFrame\n",
    "missing_rows_1d = df_1d[df_1d.isna().any(axis=1)]\n",
    "\n",
    "if missing_rows_1d.empty:\n",
    "    print(\"No missing values.\")\n",
    "else:\n",
    "    print(\"Rows with missing values:\")\n",
    "    print(missing_rows_1d)"
   ]
  },
  {
   "cell_type": "markdown",
   "metadata": {},
   "source": [
    "For the 1-day dataset, no days were missing."
   ]
  },
  {
   "cell_type": "markdown",
   "metadata": {},
   "source": [
    "# Adding A Column For Price Change Direction"
   ]
  },
  {
   "cell_type": "markdown",
   "metadata": {},
   "source": [
    "This subsection creates two new column for each dataset called direction. For direction_t-1, if the closing price is higher than the previous closing price, it is considered that the price has gone up and thus marked as 1 for appreciation. If the closing price is lower than the previous closing price, it is considered that the price has gone down and hence is marked as -1 for depreciation. If the price remains the same,  it is marked as 0 for no movement. Same for direction_t+1, but this indicates that if the price will go up or down in the next tick(timestamp)."
   ]
  },
  {
   "cell_type": "code",
   "execution_count": 558,
   "metadata": {},
   "outputs": [
    {
     "data": {
      "text/html": [
       "<div>\n",
       "<style scoped>\n",
       "    .dataframe tbody tr th:only-of-type {\n",
       "        vertical-align: middle;\n",
       "    }\n",
       "\n",
       "    .dataframe tbody tr th {\n",
       "        vertical-align: top;\n",
       "    }\n",
       "\n",
       "    .dataframe thead th {\n",
       "        text-align: right;\n",
       "    }\n",
       "</style>\n",
       "<table border=\"1\" class=\"dataframe\">\n",
       "  <thead>\n",
       "    <tr style=\"text-align: right;\">\n",
       "      <th></th>\n",
       "      <th>open</th>\n",
       "      <th>high</th>\n",
       "      <th>low</th>\n",
       "      <th>close</th>\n",
       "      <th>volume</th>\n",
       "      <th>index</th>\n",
       "      <th>was_missing</th>\n",
       "      <th>direction_t-1</th>\n",
       "      <th>direction_t+1</th>\n",
       "    </tr>\n",
       "  </thead>\n",
       "  <tbody>\n",
       "    <tr>\n",
       "      <th>0</th>\n",
       "      <td>4261.48</td>\n",
       "      <td>4261.48</td>\n",
       "      <td>4261.48</td>\n",
       "      <td>4261.48</td>\n",
       "      <td>1.775183</td>\n",
       "      <td>2017-08-17 04:00:00</td>\n",
       "      <td>0</td>\n",
       "      <td>0</td>\n",
       "      <td>0</td>\n",
       "    </tr>\n",
       "    <tr>\n",
       "      <th>1</th>\n",
       "      <td>4261.48</td>\n",
       "      <td>4261.48</td>\n",
       "      <td>4261.48</td>\n",
       "      <td>4261.48</td>\n",
       "      <td>0.000000</td>\n",
       "      <td>2017-08-17 04:01:00</td>\n",
       "      <td>0</td>\n",
       "      <td>0</td>\n",
       "      <td>1</td>\n",
       "    </tr>\n",
       "    <tr>\n",
       "      <th>2</th>\n",
       "      <td>4280.56</td>\n",
       "      <td>4280.56</td>\n",
       "      <td>4280.56</td>\n",
       "      <td>4280.56</td>\n",
       "      <td>0.261074</td>\n",
       "      <td>2017-08-17 04:02:00</td>\n",
       "      <td>0</td>\n",
       "      <td>1</td>\n",
       "      <td>-1</td>\n",
       "    </tr>\n",
       "    <tr>\n",
       "      <th>3</th>\n",
       "      <td>4261.48</td>\n",
       "      <td>4261.48</td>\n",
       "      <td>4261.48</td>\n",
       "      <td>4261.48</td>\n",
       "      <td>0.012008</td>\n",
       "      <td>2017-08-17 04:03:00</td>\n",
       "      <td>0</td>\n",
       "      <td>-1</td>\n",
       "      <td>0</td>\n",
       "    </tr>\n",
       "    <tr>\n",
       "      <th>4</th>\n",
       "      <td>4261.48</td>\n",
       "      <td>4261.48</td>\n",
       "      <td>4261.48</td>\n",
       "      <td>4261.48</td>\n",
       "      <td>0.140796</td>\n",
       "      <td>2017-08-17 04:04:00</td>\n",
       "      <td>0</td>\n",
       "      <td>0</td>\n",
       "      <td>0</td>\n",
       "    </tr>\n",
       "    <tr>\n",
       "      <th>5</th>\n",
       "      <td>4261.48</td>\n",
       "      <td>4261.48</td>\n",
       "      <td>4261.48</td>\n",
       "      <td>4261.48</td>\n",
       "      <td>0.000000</td>\n",
       "      <td>2017-08-17 04:05:00</td>\n",
       "      <td>0</td>\n",
       "      <td>0</td>\n",
       "      <td>0</td>\n",
       "    </tr>\n",
       "    <tr>\n",
       "      <th>6</th>\n",
       "      <td>4261.48</td>\n",
       "      <td>4261.48</td>\n",
       "      <td>4261.48</td>\n",
       "      <td>4261.48</td>\n",
       "      <td>0.000000</td>\n",
       "      <td>2017-08-17 04:06:00</td>\n",
       "      <td>0</td>\n",
       "      <td>0</td>\n",
       "      <td>0</td>\n",
       "    </tr>\n",
       "    <tr>\n",
       "      <th>7</th>\n",
       "      <td>4261.48</td>\n",
       "      <td>4261.48</td>\n",
       "      <td>4261.48</td>\n",
       "      <td>4261.48</td>\n",
       "      <td>0.000000</td>\n",
       "      <td>2017-08-17 04:07:00</td>\n",
       "      <td>0</td>\n",
       "      <td>0</td>\n",
       "      <td>0</td>\n",
       "    </tr>\n",
       "    <tr>\n",
       "      <th>8</th>\n",
       "      <td>4261.48</td>\n",
       "      <td>4261.48</td>\n",
       "      <td>4261.48</td>\n",
       "      <td>4261.48</td>\n",
       "      <td>0.000000</td>\n",
       "      <td>2017-08-17 04:08:00</td>\n",
       "      <td>0</td>\n",
       "      <td>0</td>\n",
       "      <td>0</td>\n",
       "    </tr>\n",
       "    <tr>\n",
       "      <th>9</th>\n",
       "      <td>4261.48</td>\n",
       "      <td>4261.48</td>\n",
       "      <td>4261.48</td>\n",
       "      <td>4261.48</td>\n",
       "      <td>0.000000</td>\n",
       "      <td>2017-08-17 04:09:00</td>\n",
       "      <td>0</td>\n",
       "      <td>0</td>\n",
       "      <td>0</td>\n",
       "    </tr>\n",
       "    <tr>\n",
       "      <th>10</th>\n",
       "      <td>4261.48</td>\n",
       "      <td>4261.48</td>\n",
       "      <td>4261.48</td>\n",
       "      <td>4261.48</td>\n",
       "      <td>0.000000</td>\n",
       "      <td>2017-08-17 04:10:00</td>\n",
       "      <td>0</td>\n",
       "      <td>0</td>\n",
       "      <td>0</td>\n",
       "    </tr>\n",
       "    <tr>\n",
       "      <th>11</th>\n",
       "      <td>4261.48</td>\n",
       "      <td>4261.48</td>\n",
       "      <td>4261.48</td>\n",
       "      <td>4261.48</td>\n",
       "      <td>0.000000</td>\n",
       "      <td>2017-08-17 04:11:00</td>\n",
       "      <td>0</td>\n",
       "      <td>0</td>\n",
       "      <td>0</td>\n",
       "    </tr>\n",
       "    <tr>\n",
       "      <th>12</th>\n",
       "      <td>4261.48</td>\n",
       "      <td>4261.48</td>\n",
       "      <td>4261.48</td>\n",
       "      <td>4261.48</td>\n",
       "      <td>0.000000</td>\n",
       "      <td>2017-08-17 04:12:00</td>\n",
       "      <td>0</td>\n",
       "      <td>0</td>\n",
       "      <td>0</td>\n",
       "    </tr>\n",
       "    <tr>\n",
       "      <th>13</th>\n",
       "      <td>4261.48</td>\n",
       "      <td>4261.48</td>\n",
       "      <td>4261.48</td>\n",
       "      <td>4261.48</td>\n",
       "      <td>0.000000</td>\n",
       "      <td>2017-08-17 04:13:00</td>\n",
       "      <td>0</td>\n",
       "      <td>0</td>\n",
       "      <td>0</td>\n",
       "    </tr>\n",
       "    <tr>\n",
       "      <th>14</th>\n",
       "      <td>4261.48</td>\n",
       "      <td>4261.48</td>\n",
       "      <td>4261.48</td>\n",
       "      <td>4261.48</td>\n",
       "      <td>0.000000</td>\n",
       "      <td>2017-08-17 04:14:00</td>\n",
       "      <td>0</td>\n",
       "      <td>0</td>\n",
       "      <td>0</td>\n",
       "    </tr>\n",
       "    <tr>\n",
       "      <th>15</th>\n",
       "      <td>4261.48</td>\n",
       "      <td>4261.48</td>\n",
       "      <td>4261.48</td>\n",
       "      <td>4261.48</td>\n",
       "      <td>0.000000</td>\n",
       "      <td>2017-08-17 04:15:00</td>\n",
       "      <td>0</td>\n",
       "      <td>0</td>\n",
       "      <td>0</td>\n",
       "    </tr>\n",
       "    <tr>\n",
       "      <th>16</th>\n",
       "      <td>4261.48</td>\n",
       "      <td>4261.48</td>\n",
       "      <td>4261.48</td>\n",
       "      <td>4261.48</td>\n",
       "      <td>0.000000</td>\n",
       "      <td>2017-08-17 04:16:00</td>\n",
       "      <td>0</td>\n",
       "      <td>0</td>\n",
       "      <td>1</td>\n",
       "    </tr>\n",
       "    <tr>\n",
       "      <th>17</th>\n",
       "      <td>4261.48</td>\n",
       "      <td>4264.88</td>\n",
       "      <td>4261.48</td>\n",
       "      <td>4264.88</td>\n",
       "      <td>0.075455</td>\n",
       "      <td>2017-08-17 04:17:00</td>\n",
       "      <td>0</td>\n",
       "      <td>1</td>\n",
       "      <td>0</td>\n",
       "    </tr>\n",
       "    <tr>\n",
       "      <th>18</th>\n",
       "      <td>4264.88</td>\n",
       "      <td>4264.88</td>\n",
       "      <td>4264.88</td>\n",
       "      <td>4264.88</td>\n",
       "      <td>0.000000</td>\n",
       "      <td>2017-08-17 04:18:00</td>\n",
       "      <td>0</td>\n",
       "      <td>0</td>\n",
       "      <td>-1</td>\n",
       "    </tr>\n",
       "    <tr>\n",
       "      <th>19</th>\n",
       "      <td>4261.48</td>\n",
       "      <td>4261.48</td>\n",
       "      <td>4261.48</td>\n",
       "      <td>4261.48</td>\n",
       "      <td>0.409211</td>\n",
       "      <td>2017-08-17 04:19:00</td>\n",
       "      <td>0</td>\n",
       "      <td>-1</td>\n",
       "      <td>1</td>\n",
       "    </tr>\n",
       "  </tbody>\n",
       "</table>\n",
       "</div>"
      ],
      "text/plain": [
       "       open     high      low    close    volume               index  \\\n",
       "0   4261.48  4261.48  4261.48  4261.48  1.775183 2017-08-17 04:00:00   \n",
       "1   4261.48  4261.48  4261.48  4261.48  0.000000 2017-08-17 04:01:00   \n",
       "2   4280.56  4280.56  4280.56  4280.56  0.261074 2017-08-17 04:02:00   \n",
       "3   4261.48  4261.48  4261.48  4261.48  0.012008 2017-08-17 04:03:00   \n",
       "4   4261.48  4261.48  4261.48  4261.48  0.140796 2017-08-17 04:04:00   \n",
       "5   4261.48  4261.48  4261.48  4261.48  0.000000 2017-08-17 04:05:00   \n",
       "6   4261.48  4261.48  4261.48  4261.48  0.000000 2017-08-17 04:06:00   \n",
       "7   4261.48  4261.48  4261.48  4261.48  0.000000 2017-08-17 04:07:00   \n",
       "8   4261.48  4261.48  4261.48  4261.48  0.000000 2017-08-17 04:08:00   \n",
       "9   4261.48  4261.48  4261.48  4261.48  0.000000 2017-08-17 04:09:00   \n",
       "10  4261.48  4261.48  4261.48  4261.48  0.000000 2017-08-17 04:10:00   \n",
       "11  4261.48  4261.48  4261.48  4261.48  0.000000 2017-08-17 04:11:00   \n",
       "12  4261.48  4261.48  4261.48  4261.48  0.000000 2017-08-17 04:12:00   \n",
       "13  4261.48  4261.48  4261.48  4261.48  0.000000 2017-08-17 04:13:00   \n",
       "14  4261.48  4261.48  4261.48  4261.48  0.000000 2017-08-17 04:14:00   \n",
       "15  4261.48  4261.48  4261.48  4261.48  0.000000 2017-08-17 04:15:00   \n",
       "16  4261.48  4261.48  4261.48  4261.48  0.000000 2017-08-17 04:16:00   \n",
       "17  4261.48  4264.88  4261.48  4264.88  0.075455 2017-08-17 04:17:00   \n",
       "18  4264.88  4264.88  4264.88  4264.88  0.000000 2017-08-17 04:18:00   \n",
       "19  4261.48  4261.48  4261.48  4261.48  0.409211 2017-08-17 04:19:00   \n",
       "\n",
       "    was_missing  direction_t-1  direction_t+1  \n",
       "0             0              0              0  \n",
       "1             0              0              1  \n",
       "2             0              1             -1  \n",
       "3             0             -1              0  \n",
       "4             0              0              0  \n",
       "5             0              0              0  \n",
       "6             0              0              0  \n",
       "7             0              0              0  \n",
       "8             0              0              0  \n",
       "9             0              0              0  \n",
       "10            0              0              0  \n",
       "11            0              0              0  \n",
       "12            0              0              0  \n",
       "13            0              0              0  \n",
       "14            0              0              0  \n",
       "15            0              0              0  \n",
       "16            0              0              1  \n",
       "17            0              1              0  \n",
       "18            0              0             -1  \n",
       "19            0             -1              1  "
      ]
     },
     "execution_count": 558,
     "metadata": {},
     "output_type": "execute_result"
    }
   ],
   "source": [
    "# Calculate direction_t-1 and direction_t+1\n",
    "df_1m['direction_t-1'] = df_1m['close'].diff().apply(lambda x: 1 if x > 0 else (-1 if x < 0 else 0))\n",
    "df_1m['direction_t+1'] = df_1m['close'].shift(-1).sub(df_1m['close']).apply(lambda x: 1 if x > 0 else (-1 if x < 0 else 0))\n",
    "\n",
    "# Drop the first and last rows where direction_t-1 or direction_t+1 is NaN\n",
    "df_1m.dropna(subset=['direction_t-1', 'direction_t+1'], inplace=True)\n",
    "\n",
    "# Ensure both columns are integers\n",
    "df_1m['direction_t-1'] = df_1m['direction_t-1'].astype(int)\n",
    "df_1m['direction_t+1'] = df_1m['direction_t+1'].astype(int)\n",
    "\n",
    "# Display the DataFrame for verification\n",
    "df_1m.head(20)"
   ]
  },
  {
   "cell_type": "code",
   "execution_count": 559,
   "metadata": {},
   "outputs": [],
   "source": [
    "# applying the same logic to the 1-hour and 1-day datasets\n",
    "df_1h['direction_t-1'] = df_1h['close'].diff().apply(lambda x: 1 if x > 0 else (-1 if x < 0 else 0))\n",
    "df_1h['direction_t+1'] = df_1h['close'].shift(-1).sub(df_1h['close']).apply(lambda x: 1 if x > 0 else (-1 if x < 0 else 0))\n",
    "df_1h.dropna(subset=['direction_t-1', 'direction_t+1'], inplace=True)\n",
    "df_1h['direction_t-1'] = df_1h['direction_t-1'].astype(int)\n",
    "df_1h['direction_t+1'] = df_1h['direction_t+1'].astype(int)\n",
    "\n",
    "df_1d['direction_t-1'] = df_1d['close'].diff().apply(lambda x: 1 if x > 0 else (-1 if x < 0 else 0))\n",
    "df_1d['direction_t+1'] = df_1d['close'].shift(-1).sub(df_1d['close']).apply(lambda x: 1 if x > 0 else (-1 if x < 0 else 0))\n",
    "df_1d.dropna(subset=['direction_t-1', 'direction_t+1'], inplace=True)\n",
    "df_1d['direction_t-1'] = df_1d['direction_t-1'].astype(int)\n",
    "df_1d['direction_t+1'] = df_1d['direction_t+1'].astype(int)"
   ]
  },
  {
   "cell_type": "markdown",
   "metadata": {},
   "source": [
    "# Saving the DataFrame as a parquet file"
   ]
  },
  {
   "cell_type": "code",
   "execution_count": 560,
   "metadata": {},
   "outputs": [],
   "source": [
    "df_1m.to_parquet('../data/02-analysis_data/cleaned_data_1m.parquet', index=False)\n",
    "df_1h.to_parquet('../data/02-analysis_data/cleaned_data_1h.parquet', index=False)\n",
    "df_1d.to_parquet('../data/02-analysis_data/cleaned_data_1d.parquet', index=False)"
   ]
  }
 ],
 "metadata": {
  "kernelspec": {
   "display_name": "ml",
   "language": "python",
   "name": "python3"
  },
  "language_info": {
   "codemirror_mode": {
    "name": "ipython",
    "version": 3
   },
   "file_extension": ".py",
   "mimetype": "text/x-python",
   "name": "python",
   "nbconvert_exporter": "python",
   "pygments_lexer": "ipython3",
   "version": "3.12.7"
  }
 },
 "nbformat": 4,
 "nbformat_minor": 2
}
