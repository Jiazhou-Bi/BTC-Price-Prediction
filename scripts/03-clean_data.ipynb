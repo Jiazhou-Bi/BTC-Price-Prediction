{
 "cells": [
  {
   "cell_type": "code",
   "execution_count": 60,
   "metadata": {},
   "outputs": [],
   "source": [
    "#### Preamble ####\n",
    "# Purpose: Cleans and saves the data from IPUMS USA\n",
    "# Author: Jiazhou(Justin) Bi and Weiyang Li\n",
    "# Date: 3 October 2024\n",
    "# Contact: justin.bi@mail.utoronto.ca or weiyang.li@mail.utoronto.ca\n",
    "# License: MIT\n",
    "# Pre-requisites: python 3.10.5 or above, with pandas installed for python\n",
    "# Any other information needed? None"
   ]
  },
  {
   "cell_type": "markdown",
   "metadata": {},
   "source": [
    "# Loading the data"
   ]
  },
  {
   "cell_type": "code",
   "execution_count": 61,
   "metadata": {},
   "outputs": [],
   "source": [
    "import pandas as pd"
   ]
  },
  {
   "cell_type": "code",
   "execution_count": 62,
   "metadata": {},
   "outputs": [
    {
     "name": "stdout",
     "output_type": "stream",
     "text": [
      "   YEAR  SAMPLE  SERIAL       CBSERIAL  HHWT        CLUSTER  STATEICP  CITY  \\\n",
      "0  2022  202201       1  2022010000031  69.0  2022000000011        41     0   \n",
      "1  2022  202201       2  2022010000111  22.0  2022000000021        41     0   \n",
      "2  2022  202201       3  2022010000200  45.0  2022000000031        41     0   \n",
      "3  2022  202201       4  2022010000261   4.0  2022000000041        41     0   \n",
      "4  2022  202201       5  2022010000296  47.0  2022000000051        41     0   \n",
      "\n",
      "   STRATA  GQ  ...  AGE  MARST  EDUC  EDUCD  SCHLTYPE  OCC2010  IND1990  \\\n",
      "0  280301   3  ...   85      5     7     71         1     9920        0   \n",
      "1  200001   3  ...   51      5     6     64         1     5620      591   \n",
      "2  280301   3  ...   36      6     2     26         1     8800      100   \n",
      "3  110001   4  ...   74      6     0      2         1     9920        0   \n",
      "4  150201   3  ...   49      4     7     71         1     6230       60   \n",
      "\n",
      "   INCTOT  VETSTAT  VETSTATD  \n",
      "0   18800        1        11  \n",
      "1   12500        1        11  \n",
      "2   16400        1        11  \n",
      "3    8600        1        11  \n",
      "4    5000        2        20  \n",
      "\n",
      "[5 rows x 26 columns]\n"
     ]
    }
   ],
   "source": [
    "#Loading the dataset as DataFrame\n",
    "df = pd.read_csv('../data/01-raw_data/raw_data.csv.gz')\n",
    "print(df.head())"
   ]
  },
  {
   "cell_type": "code",
   "execution_count": 63,
   "metadata": {},
   "outputs": [
    {
     "name": "stdout",
     "output_type": "stream",
     "text": [
      "(3373378, 26)\n"
     ]
    }
   ],
   "source": [
    "#Checking our sample size\n",
    "print(df.shape)\n",
    "#(3373378, 26)"
   ]
  },
  {
   "cell_type": "markdown",
   "metadata": {},
   "source": [
    "# Dropping Columns"
   ]
  },
  {
   "cell_type": "code",
   "execution_count": 64,
   "metadata": {},
   "outputs": [
    {
     "name": "stdout",
     "output_type": "stream",
     "text": [
      "   STATEICP  GQ  MORTGAGE  SEX  AGE  MARST  EDUC  SCHLTYPE  OCC2010  IND1990  \\\n",
      "0        41   3         0    2   85      5     7         1     9920        0   \n",
      "1        41   3         0    1   51      5     6         1     5620      591   \n",
      "2        41   3         0    2   36      6     2         1     8800      100   \n",
      "3        41   4         0    1   74      6     0         1     9920        0   \n",
      "4        41   3         0    1   49      4     7         1     6230       60   \n",
      "\n",
      "   INCTOT  VETSTAT  \n",
      "0   18800        1  \n",
      "1   12500        1  \n",
      "2   16400        1  \n",
      "3    8600        1  \n",
      "4    5000        2  \n"
     ]
    }
   ],
   "source": [
    "df = df.drop(columns=['YEAR','SAMPLE','SERIAL','CBSERIAL','HHWT','CLUSTER','STRATA','OWNERSHP','OWNERSHPD','PERWT','EDUCD','VETSTATD','PERNUM','CITY'])\n",
    "print(df.head())"
   ]
  },
  {
   "cell_type": "markdown",
   "metadata": {},
   "source": [
    "# Data Validation"
   ]
  },
  {
   "cell_type": "code",
   "execution_count": 65,
   "metadata": {},
   "outputs": [
    {
     "name": "stdout",
     "output_type": "stream",
     "text": [
      "STATEICP    0\n",
      "GQ          0\n",
      "MORTGAGE    0\n",
      "SEX         0\n",
      "AGE         0\n",
      "MARST       0\n",
      "EDUC        0\n",
      "SCHLTYPE    0\n",
      "OCC2010     0\n",
      "IND1990     0\n",
      "INCTOT      0\n",
      "VETSTAT     0\n",
      "dtype: int64\n"
     ]
    }
   ],
   "source": [
    "missing_values = df.isnull().sum()\n",
    "print(missing_values)\n",
    "#PASS. No missing values found in this dataset."
   ]
  },
  {
   "cell_type": "markdown",
   "metadata": {},
   "source": [
    "# Changing to Correct Data Types"
   ]
  },
  {
   "cell_type": "code",
   "execution_count": 66,
   "metadata": {},
   "outputs": [
    {
     "data": {
      "text/plain": [
       "STATEICP    int64\n",
       "GQ          int64\n",
       "MORTGAGE    int64\n",
       "SEX         int64\n",
       "AGE         int64\n",
       "MARST       int64\n",
       "EDUC        int64\n",
       "SCHLTYPE    int64\n",
       "OCC2010     int64\n",
       "IND1990     int64\n",
       "INCTOT      int64\n",
       "VETSTAT     int64\n",
       "dtype: object"
      ]
     },
     "execution_count": 66,
     "metadata": {},
     "output_type": "execute_result"
    }
   ],
   "source": [
    "df.dtypes\n",
    "# STATEICP    object\n",
    "# CITY        object\n",
    "# GQ          object\n",
    "# OWNERSHP    object\n",
    "# MORTGAGE    object\n",
    "# SEX         object\n",
    "# AGE          int64\n",
    "# MARST       object\n",
    "# EDUC        object\n",
    "# SCHLTYPE    object\n",
    "# OCC2010     object\n",
    "# IND1990     int64\n",
    "# INCTOT       int64\n",
    "# VETSTAT     object\n",
    "# dtype: object"
   ]
  },
  {
   "cell_type": "code",
   "execution_count": 67,
   "metadata": {},
   "outputs": [],
   "source": [
    "df['STATEICP']=df['STATEICP'].astype('str')\n",
    "#The below variable was dropped because it has a lot of missing values.\n",
    "#df['CITY']=df['CITY'].astype('str')\n",
    "df['GQ']=df['GQ'].astype('str')\n",
    "#df['OWNERSHP']=df['OWNERSHP'].astype('str')\n",
    "df['MORTGAGE']=df['MORTGAGE'].astype('str')\n",
    "df['SEX']=df['SEX'].astype('str')\n",
    "df['MARST']=df['MARST'].astype('str')\n",
    "df['EDUC']=df['EDUC'].astype('str')\n",
    "df['SCHLTYPE']=df['SCHLTYPE'].astype('str')\n",
    "df['OCC2010']=df['OCC2010'].astype('str')\n",
    "df['IND1990']=df['IND1990'].astype('str')\n",
    "df['VETSTAT']=df['VETSTAT'].astype('str')\n",
    "df['INCTOT']=df['INCTOT'].astype('str')"
   ]
  },
  {
   "cell_type": "markdown",
   "metadata": {},
   "source": [
    "# Dropping Income that does not reflect actual income numbers"
   ]
  },
  {
   "cell_type": "code",
   "execution_count": 68,
   "metadata": {},
   "outputs": [
    {
     "data": {
      "text/plain": [
       "(2850502, 12)"
      ]
     },
     "execution_count": 68,
     "metadata": {},
     "output_type": "execute_result"
    }
   ],
   "source": [
    "# INCTOT Specific Variable Codes\n",
    "# -009995 = -$9,900 (1980)\n",
    "# -000001 = Net loss (1950)\n",
    "# 0000000 = None\n",
    "# 0000001 = $1 or break even (2000, 2005-onward ACS and PRCS)\n",
    "# 9999999 = N/A\n",
    "# 9999998 = Unknown\n",
    "# We will drop all the values above.\n",
    "df = df[~df['INCTOT'].isin(['-009995', '-000001', '0000000', '0000001', '9999999', '9999998'])]\n",
    "df['INCTOT']=df['INCTOT'].astype('int')\n",
    "df.shape\n",
    "#(2850502, 13)"
   ]
  },
  {
   "cell_type": "markdown",
   "metadata": {},
   "source": [
    "# Dropping Rows with Not Identified/Missing Value"
   ]
  },
  {
   "cell_type": "code",
   "execution_count": 69,
   "metadata": {},
   "outputs": [],
   "source": [
    "df = df[(df['STATEICP'] != '99') & (df['MORTGAGE'] != '0') \n",
    "        & (df['SEX'] != '9') & (df['AGE'] != '999') & (df['MARST'] != '9') \n",
    "        & (df['EDUC'] != '99') & (df['SCHLTYPE'] != '0') & (df['VETSTAT'] != '9') \n",
    "        & (df['IND1990'] != '0') & (df['IND1990'] != '999')] \n"
   ]
  },
  {
   "cell_type": "code",
   "execution_count": 70,
   "metadata": {},
   "outputs": [
    {
     "name": "stdout",
     "output_type": "stream",
     "text": [
      "(1431351, 12)\n"
     ]
    }
   ],
   "source": [
    "#Checking our sample size now\n",
    "print(df.shape)\n",
    "#(1431351, 13)"
   ]
  },
  {
   "cell_type": "markdown",
   "metadata": {},
   "source": [
    "# Regroup the Education Levels （EDUC）"
   ]
  },
  {
   "cell_type": "code",
   "execution_count": 71,
   "metadata": {},
   "outputs": [
    {
     "data": {
      "text/html": [
       "<div>\n",
       "<style scoped>\n",
       "    .dataframe tbody tr th:only-of-type {\n",
       "        vertical-align: middle;\n",
       "    }\n",
       "\n",
       "    .dataframe tbody tr th {\n",
       "        vertical-align: top;\n",
       "    }\n",
       "\n",
       "    .dataframe thead th {\n",
       "        text-align: right;\n",
       "    }\n",
       "</style>\n",
       "<table border=\"1\" class=\"dataframe\">\n",
       "  <thead>\n",
       "    <tr style=\"text-align: right;\">\n",
       "      <th></th>\n",
       "      <th>EDUC</th>\n",
       "      <th>EDUC_GROUPED</th>\n",
       "    </tr>\n",
       "  </thead>\n",
       "  <tbody>\n",
       "    <tr>\n",
       "      <th>3136</th>\n",
       "      <td>10</td>\n",
       "      <td>College 1-4 Years</td>\n",
       "    </tr>\n",
       "    <tr>\n",
       "      <th>3144</th>\n",
       "      <td>8</td>\n",
       "      <td>College 1-4 Years</td>\n",
       "    </tr>\n",
       "    <tr>\n",
       "      <th>3148</th>\n",
       "      <td>7</td>\n",
       "      <td>College 1-4 Years</td>\n",
       "    </tr>\n",
       "    <tr>\n",
       "      <th>3149</th>\n",
       "      <td>7</td>\n",
       "      <td>College 1-4 Years</td>\n",
       "    </tr>\n",
       "    <tr>\n",
       "      <th>3150</th>\n",
       "      <td>5</td>\n",
       "      <td>Middle School</td>\n",
       "    </tr>\n",
       "  </tbody>\n",
       "</table>\n",
       "</div>"
      ],
      "text/plain": [
       "      EDUC       EDUC_GROUPED\n",
       "3136    10  College 1-4 Years\n",
       "3144     8  College 1-4 Years\n",
       "3148     7  College 1-4 Years\n",
       "3149     7  College 1-4 Years\n",
       "3150     5      Middle School"
      ]
     },
     "execution_count": 71,
     "metadata": {},
     "output_type": "execute_result"
    }
   ],
   "source": [
    "# Convert it to integers\n",
    "df['EDUC'] = df['EDUC'].astype(int)\n",
    "\n",
    "# Mapping the education levels to the new categories\n",
    "education_labels = {\n",
    "    0: 'No Schooling',      # No schooling\n",
    "    1: 'Nursery School',    # Nursery school to grade 4\n",
    "    2: 'Primary School',    # Grade 5-8\n",
    "    3: 'Middle School',     # Grade 9\n",
    "    4: 'Middle School',     # Grade 10\n",
    "    5: 'Middle School',     # Grade 11\n",
    "    6: 'Middle School',     # Grade 12\n",
    "    7: 'College 1-4 Years', # 1 year of college\n",
    "    8: 'College 1-4 Years', # 2 years of college\n",
    "    9: 'College 1-4 Years', # 3 years of college\n",
    "    10: 'College 1-4 Years', # 4 years of college\n",
    "    11: 'College 5+ Years', # 5+ years of college\n",
    "}\n",
    "\n",
    "# Apply the mapping to the 'EDUC' column in the dataset\n",
    "df['EDUC_GROUPED'] = df['EDUC'].map(education_labels)\n",
    "\n",
    "# Display the first few rows of the modified dataframe\n",
    "df[['EDUC', 'EDUC_GROUPED']].head()\n"
   ]
  },
  {
   "cell_type": "code",
   "execution_count": 72,
   "metadata": {},
   "outputs": [
    {
     "data": {
      "text/html": [
       "<div>\n",
       "<style scoped>\n",
       "    .dataframe tbody tr th:only-of-type {\n",
       "        vertical-align: middle;\n",
       "    }\n",
       "\n",
       "    .dataframe tbody tr th {\n",
       "        vertical-align: top;\n",
       "    }\n",
       "\n",
       "    .dataframe thead th {\n",
       "        text-align: right;\n",
       "    }\n",
       "</style>\n",
       "<table border=\"1\" class=\"dataframe\">\n",
       "  <thead>\n",
       "    <tr style=\"text-align: right;\">\n",
       "      <th></th>\n",
       "      <th>EDUC</th>\n",
       "      <th>EDUC_GROUPED</th>\n",
       "      <th>EDUC_new</th>\n",
       "    </tr>\n",
       "  </thead>\n",
       "  <tbody>\n",
       "    <tr>\n",
       "      <th>3136</th>\n",
       "      <td>10</td>\n",
       "      <td>College 1-4 Years</td>\n",
       "      <td>4</td>\n",
       "    </tr>\n",
       "    <tr>\n",
       "      <th>3144</th>\n",
       "      <td>8</td>\n",
       "      <td>College 1-4 Years</td>\n",
       "      <td>4</td>\n",
       "    </tr>\n",
       "    <tr>\n",
       "      <th>3148</th>\n",
       "      <td>7</td>\n",
       "      <td>College 1-4 Years</td>\n",
       "      <td>4</td>\n",
       "    </tr>\n",
       "    <tr>\n",
       "      <th>3149</th>\n",
       "      <td>7</td>\n",
       "      <td>College 1-4 Years</td>\n",
       "      <td>4</td>\n",
       "    </tr>\n",
       "    <tr>\n",
       "      <th>3150</th>\n",
       "      <td>5</td>\n",
       "      <td>Middle School</td>\n",
       "      <td>3</td>\n",
       "    </tr>\n",
       "  </tbody>\n",
       "</table>\n",
       "</div>"
      ],
      "text/plain": [
       "      EDUC       EDUC_GROUPED  EDUC_new\n",
       "3136    10  College 1-4 Years         4\n",
       "3144     8  College 1-4 Years         4\n",
       "3148     7  College 1-4 Years         4\n",
       "3149     7  College 1-4 Years         4\n",
       "3150     5      Middle School         3"
      ]
     },
     "execution_count": 72,
     "metadata": {},
     "output_type": "execute_result"
    }
   ],
   "source": [
    "# Define the numeric mapping for the new education groups\n",
    "education_numeric_mapping = {\n",
    "    'No Schooling': 0,\n",
    "    'Nursery School': 1,\n",
    "    'Primary School': 2,\n",
    "    'Middle School': 3,\n",
    "    'College 1-4 Years': 4,\n",
    "    'College 5+ Years': 5\n",
    "}\n",
    "\n",
    "# Map the grouped education categories to numeric codes\n",
    "df['EDUC_new'] = df['EDUC_GROUPED'].map(education_numeric_mapping)\n",
    "\n",
    "# Display the first few rows to verify\n",
    "df[['EDUC', 'EDUC_GROUPED', 'EDUC_new']].head()"
   ]
  },
  {
   "cell_type": "code",
   "execution_count": 73,
   "metadata": {},
   "outputs": [
    {
     "name": "stdout",
     "output_type": "stream",
     "text": [
      "     STATEICP GQ MORTGAGE SEX  AGE MARST  EDUC SCHLTYPE OCC2010 IND1990  \\\n",
      "3136       41  1        3   2   51     6    10        1     800     850   \n",
      "3144       41  1        3   1   61     1     8        1    4810     711   \n",
      "3148       41  1        1   1   63     1     7        1    8030      50   \n",
      "3149       41  1        1   2   36     4     7        1     120     702   \n",
      "3150       41  1        1   1   17     6     5        3    4000     641   \n",
      "\n",
      "      INCTOT VETSTAT EDUC_new  \n",
      "3136  120000       1        4  \n",
      "3144  200000       1        4  \n",
      "3148   40000       1        4  \n",
      "3149   50000       1        4  \n",
      "3150     400       1        3  \n"
     ]
    },
    {
     "data": {
      "text/plain": [
       "STATEICP    object\n",
       "GQ          object\n",
       "MORTGAGE    object\n",
       "SEX         object\n",
       "AGE          int64\n",
       "MARST       object\n",
       "EDUC         int64\n",
       "SCHLTYPE    object\n",
       "OCC2010     object\n",
       "IND1990     object\n",
       "INCTOT       int64\n",
       "VETSTAT     object\n",
       "EDUC_new    object\n",
       "dtype: object"
      ]
     },
     "execution_count": 73,
     "metadata": {},
     "output_type": "execute_result"
    }
   ],
   "source": [
    "# Convert it to objects\n",
    "df['EDUC_new'] = df['EDUC_new'].astype(object)\n",
    "\n",
    "df = df.drop(columns=['EDUC_GROUPED'])\n",
    "print(df.head())\n",
    "\n",
    "df.dtypes"
   ]
  },
  {
   "cell_type": "markdown",
   "metadata": {},
   "source": [
    "# Saving the DataFrame as a parquet file"
   ]
  },
  {
   "cell_type": "code",
   "execution_count": 74,
   "metadata": {},
   "outputs": [],
   "source": [
    "df.to_parquet('../data/02-analysis_data/cleaned_data.parquet', index=False)"
   ]
  }
 ],
 "metadata": {
  "kernelspec": {
   "display_name": "Python 3",
   "language": "python",
   "name": "python3"
  },
  "language_info": {
   "codemirror_mode": {
    "name": "ipython",
    "version": 3
   },
   "file_extension": ".py",
   "mimetype": "text/x-python",
   "name": "python",
   "nbconvert_exporter": "python",
   "pygments_lexer": "ipython3",
   "version": "3.10.5"
  }
 },
 "nbformat": 4,
 "nbformat_minor": 2
}
